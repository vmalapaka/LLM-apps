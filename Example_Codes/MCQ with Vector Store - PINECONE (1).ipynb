{
 "cells": [
  {
   "cell_type": "code",
   "execution_count": 1,
   "id": "0a62f101",
   "metadata": {},
   "outputs": [
    {
     "name": "stdout",
     "output_type": "stream",
     "text": [
      "\u001b[33mDEPRECATION: Loading egg at /Users/venkatasamyuktamalapaka/.local/lib/python3.11/site-packages/mylinear_cpp-0.0.0-py3.11-macosx-11.1-arm64.egg is deprecated. pip 23.3 will enforce this behaviour change. A possible replacement is to use pip for package installation..\u001b[0m\u001b[33m\n",
      "\u001b[0mCollecting unstructured\n",
      "  Obtaining dependency information for unstructured from https://files.pythonhosted.org/packages/54/73/b9c499b669ce2387dde71968c72fc6077e2df347e7bb3c5b43fec1530f5a/unstructured-0.13.2-py3-none-any.whl.metadata\n",
      "  Downloading unstructured-0.13.2-py3-none-any.whl.metadata (30 kB)\n",
      "Requirement already satisfied: chardet in ./anaconda3/lib/python3.11/site-packages (from unstructured) (4.0.0)\n",
      "Collecting filetype (from unstructured)\n",
      "  Obtaining dependency information for filetype from https://files.pythonhosted.org/packages/18/79/1b8fa1bb3568781e84c9200f951c735f3f157429f44be0495da55894d620/filetype-1.2.0-py2.py3-none-any.whl.metadata\n",
      "  Downloading filetype-1.2.0-py2.py3-none-any.whl.metadata (6.5 kB)\n",
      "Collecting python-magic (from unstructured)\n",
      "  Obtaining dependency information for python-magic from https://files.pythonhosted.org/packages/6c/73/9f872cb81fc5c3bb48f7227872c28975f998f3e7c2b1c16e95e6432bbb90/python_magic-0.4.27-py2.py3-none-any.whl.metadata\n",
      "  Downloading python_magic-0.4.27-py2.py3-none-any.whl.metadata (5.8 kB)\n",
      "Requirement already satisfied: lxml in ./anaconda3/lib/python3.11/site-packages (from unstructured) (4.9.3)\n",
      "Requirement already satisfied: nltk in ./anaconda3/lib/python3.11/site-packages (from unstructured) (3.8.1)\n",
      "Requirement already satisfied: tabulate in ./anaconda3/lib/python3.11/site-packages (from unstructured) (0.8.10)\n",
      "Requirement already satisfied: requests in ./anaconda3/lib/python3.11/site-packages (from unstructured) (2.31.0)\n",
      "Requirement already satisfied: beautifulsoup4 in ./anaconda3/lib/python3.11/site-packages (from unstructured) (4.12.2)\n",
      "Collecting emoji (from unstructured)\n",
      "  Obtaining dependency information for emoji from https://files.pythonhosted.org/packages/55/c1/1d97d960831e23a3dd8608b0b489eb4866144445475277a443efb0379609/emoji-2.11.0-py2.py3-none-any.whl.metadata\n",
      "  Downloading emoji-2.11.0-py2.py3-none-any.whl.metadata (5.3 kB)\n",
      "Requirement already satisfied: dataclasses-json in ./anaconda3/lib/python3.11/site-packages (from unstructured) (0.6.4)\n",
      "Collecting python-iso639 (from unstructured)\n",
      "  Obtaining dependency information for python-iso639 from https://files.pythonhosted.org/packages/01/62/2fed44ba10fe805345fb0e9c46c7f8dcdaf1bffd642f051fcc3db9bf55d8/python_iso639-2024.2.7-py3-none-any.whl.metadata\n",
      "  Downloading python_iso639-2024.2.7-py3-none-any.whl.metadata (13 kB)\n",
      "Collecting langdetect (from unstructured)\n",
      "  Downloading langdetect-1.0.9.tar.gz (981 kB)\n",
      "\u001b[2K     \u001b[90m━━━━━━━━━━━━━━━━━━━━━━━━━━━━━━━━━━━━━\u001b[0m \u001b[32m981.5/981.5 kB\u001b[0m \u001b[31m630.2 kB/s\u001b[0m eta \u001b[36m0:00:00\u001b[0ma \u001b[36m0:00:01\u001b[0m\n",
      "\u001b[?25h  Preparing metadata (setup.py) ... \u001b[?25ldone\n",
      "\u001b[?25hRequirement already satisfied: numpy in ./anaconda3/lib/python3.11/site-packages (from unstructured) (1.24.3)\n",
      "Collecting rapidfuzz (from unstructured)\n",
      "  Obtaining dependency information for rapidfuzz from https://files.pythonhosted.org/packages/3f/9a/c81fb915a7ff5fe70c29314bdcf8912566197edc5a352d1ced21426d17aa/rapidfuzz-3.8.1-cp311-cp311-macosx_11_0_arm64.whl.metadata\n",
      "  Downloading rapidfuzz-3.8.1-cp311-cp311-macosx_11_0_arm64.whl.metadata (11 kB)\n",
      "Requirement already satisfied: backoff in ./anaconda3/lib/python3.11/site-packages (from unstructured) (2.2.1)\n",
      "Requirement already satisfied: typing-extensions in ./anaconda3/lib/python3.11/site-packages (from unstructured) (4.11.0)\n",
      "Collecting unstructured-client<=0.18.0 (from unstructured)\n",
      "  Obtaining dependency information for unstructured-client<=0.18.0 from https://files.pythonhosted.org/packages/a6/07/6e0fba885472decf691bb70818858c7996e0509d55c5001546e967614301/unstructured_client-0.18.0-py3-none-any.whl.metadata\n",
      "  Downloading unstructured_client-0.18.0-py3-none-any.whl.metadata (4.9 kB)\n",
      "Requirement already satisfied: wrapt in ./anaconda3/lib/python3.11/site-packages (from unstructured) (1.14.1)\n",
      "Requirement already satisfied: certifi>=2023.7.22 in ./anaconda3/lib/python3.11/site-packages (from unstructured-client<=0.18.0->unstructured) (2023.11.17)\n",
      "Collecting charset-normalizer>=3.2.0 (from unstructured-client<=0.18.0->unstructured)\n",
      "  Obtaining dependency information for charset-normalizer>=3.2.0 from https://files.pythonhosted.org/packages/dd/51/68b61b90b24ca35495956b718f35a9756ef7d3dd4b3c1508056fa98d1a1b/charset_normalizer-3.3.2-cp311-cp311-macosx_11_0_arm64.whl.metadata\n",
      "  Downloading charset_normalizer-3.3.2-cp311-cp311-macosx_11_0_arm64.whl.metadata (33 kB)\n",
      "Collecting dataclasses-json-speakeasy>=0.5.11 (from unstructured-client<=0.18.0->unstructured)\n",
      "  Obtaining dependency information for dataclasses-json-speakeasy>=0.5.11 from https://files.pythonhosted.org/packages/57/5b/2002d3da4fc37c567287cd89fb08b43c1fb130ce0d757bd3e8f61b1a1f94/dataclasses_json_speakeasy-0.5.11-py3-none-any.whl.metadata\n",
      "  Downloading dataclasses_json_speakeasy-0.5.11-py3-none-any.whl.metadata (25 kB)\n",
      "Requirement already satisfied: idna>=3.4 in ./anaconda3/lib/python3.11/site-packages (from unstructured-client<=0.18.0->unstructured) (3.4)\n",
      "Collecting jsonpath-python>=1.0.6 (from unstructured-client<=0.18.0->unstructured)\n",
      "  Obtaining dependency information for jsonpath-python>=1.0.6 from https://files.pythonhosted.org/packages/16/8a/d63959f4eff03893a00e6e63592e3a9f15b9266ed8e0275ab77f8c7dbc94/jsonpath_python-1.0.6-py3-none-any.whl.metadata\n",
      "  Downloading jsonpath_python-1.0.6-py3-none-any.whl.metadata (12 kB)\n",
      "Requirement already satisfied: marshmallow>=3.19.0 in ./anaconda3/lib/python3.11/site-packages (from unstructured-client<=0.18.0->unstructured) (3.21.1)\n",
      "Requirement already satisfied: mypy-extensions>=1.0.0 in ./anaconda3/lib/python3.11/site-packages (from unstructured-client<=0.18.0->unstructured) (1.0.0)\n",
      "Requirement already satisfied: packaging>=23.1 in ./anaconda3/lib/python3.11/site-packages (from unstructured-client<=0.18.0->unstructured) (23.2)\n",
      "Requirement already satisfied: python-dateutil>=2.8.2 in ./anaconda3/lib/python3.11/site-packages (from unstructured-client<=0.18.0->unstructured) (2.8.2)\n",
      "Requirement already satisfied: six>=1.16.0 in ./anaconda3/lib/python3.11/site-packages (from unstructured-client<=0.18.0->unstructured) (1.16.0)\n",
      "Requirement already satisfied: typing-inspect>=0.9.0 in ./anaconda3/lib/python3.11/site-packages (from unstructured-client<=0.18.0->unstructured) (0.9.0)\n",
      "Collecting urllib3>=1.26.18 (from unstructured-client<=0.18.0->unstructured)\n",
      "  Obtaining dependency information for urllib3>=1.26.18 from https://files.pythonhosted.org/packages/a2/73/a68704750a7679d0b6d3ad7aa8d4da8e14e151ae82e6fee774e6e0d05ec8/urllib3-2.2.1-py3-none-any.whl.metadata\n",
      "  Downloading urllib3-2.2.1-py3-none-any.whl.metadata (6.4 kB)\n",
      "Requirement already satisfied: soupsieve>1.2 in ./anaconda3/lib/python3.11/site-packages (from beautifulsoup4->unstructured) (2.4)\n",
      "Requirement already satisfied: click in ./anaconda3/lib/python3.11/site-packages (from nltk->unstructured) (8.0.4)\n",
      "Requirement already satisfied: joblib in ./anaconda3/lib/python3.11/site-packages (from nltk->unstructured) (1.2.0)\n",
      "Requirement already satisfied: regex>=2021.8.3 in ./anaconda3/lib/python3.11/site-packages (from nltk->unstructured) (2022.7.9)\n",
      "Requirement already satisfied: tqdm in ./anaconda3/lib/python3.11/site-packages (from nltk->unstructured) (4.65.0)\n",
      "Downloading unstructured-0.13.2-py3-none-any.whl (1.9 MB)\n",
      "\u001b[2K   \u001b[90m━━━━━━━━━━━━━━━━━━━━━━━━━━━━━━━━━━━━━━━━\u001b[0m \u001b[32m1.9/1.9 MB\u001b[0m \u001b[31m1.1 MB/s\u001b[0m eta \u001b[36m0:00:00\u001b[0ma \u001b[36m0:00:01\u001b[0m0m\n",
      "\u001b[?25hDownloading unstructured_client-0.18.0-py3-none-any.whl (21 kB)\n",
      "Downloading emoji-2.11.0-py2.py3-none-any.whl (433 kB)\n",
      "\u001b[2K   \u001b[90m━━━━━━━━━━━━━━━━━━━━━━━━━━━━━━━━━━━━━━━━\u001b[0m \u001b[32m433.8/433.8 kB\u001b[0m \u001b[31m1.0 MB/s\u001b[0m eta \u001b[36m0:00:00\u001b[0ma \u001b[36m0:00:01\u001b[0mm\n",
      "\u001b[?25hDownloading filetype-1.2.0-py2.py3-none-any.whl (19 kB)\n",
      "Downloading python_iso639-2024.2.7-py3-none-any.whl (274 kB)\n",
      "\u001b[2K   \u001b[90m━━━━━━━━━━━━━━━━━━━━━━━━━━━━━━━━━━━━━━━\u001b[0m \u001b[32m274.7/274.7 kB\u001b[0m \u001b[31m809.5 kB/s\u001b[0m eta \u001b[36m0:00:00\u001b[0ma \u001b[36m0:00:01\u001b[0m\n",
      "\u001b[?25hDownloading python_magic-0.4.27-py2.py3-none-any.whl (13 kB)\n",
      "Downloading rapidfuzz-3.8.1-cp311-cp311-macosx_11_0_arm64.whl (1.2 MB)\n",
      "\u001b[2K   \u001b[90m━━━━━━━━━━━━━━━━━━━━━━━━━━━━━━━━━━━━━━━━\u001b[0m \u001b[32m1.2/1.2 MB\u001b[0m \u001b[31m224.5 kB/s\u001b[0m eta \u001b[36m0:00:00\u001b[0m00:01\u001b[0m00:01\u001b[0m\n",
      "\u001b[?25hDownloading charset_normalizer-3.3.2-cp311-cp311-macosx_11_0_arm64.whl (118 kB)\n",
      "\u001b[2K   \u001b[90m━━━━━━━━━━━━━━━━━━━━━━━━━━━━━━━━━━━━━━━\u001b[0m \u001b[32m119.0/119.0 kB\u001b[0m \u001b[31m316.0 kB/s\u001b[0m eta \u001b[36m0:00:00\u001b[0ma \u001b[36m0:00:01\u001b[0m\n",
      "\u001b[?25hDownloading dataclasses_json_speakeasy-0.5.11-py3-none-any.whl (28 kB)\n",
      "Downloading jsonpath_python-1.0.6-py3-none-any.whl (7.6 kB)\n",
      "Downloading urllib3-2.2.1-py3-none-any.whl (121 kB)\n",
      "\u001b[2K   \u001b[90m━━━━━━━━━━━━━━━━━━━━━━━━━━━━━━━━━━━━━━━\u001b[0m \u001b[32m121.1/121.1 kB\u001b[0m \u001b[31m307.5 kB/s\u001b[0m eta \u001b[36m0:00:00\u001b[0ma \u001b[36m0:00:01\u001b[0m\n",
      "\u001b[?25hBuilding wheels for collected packages: langdetect\n",
      "  Building wheel for langdetect (setup.py) ... \u001b[?25ldone\n",
      "\u001b[?25h  Created wheel for langdetect: filename=langdetect-1.0.9-py3-none-any.whl size=993225 sha256=024fab6650110d91089397fbfcec18f7e3d5e02e2f930a26f235720de59f503d\n",
      "  Stored in directory: /Users/venkatasamyuktamalapaka/Library/Caches/pip/wheels/0a/f2/b2/e5ca405801e05eb7c8ed5b3b4bcf1fcabcd6272c167640072e\n",
      "Successfully built langdetect\n",
      "Installing collected packages: filetype, urllib3, rapidfuzz, python-magic, python-iso639, langdetect, jsonpath-python, emoji, charset-normalizer, dataclasses-json-speakeasy, unstructured-client, unstructured\n",
      "  Attempting uninstall: urllib3\n",
      "    Found existing installation: urllib3 1.26.16\n",
      "    Uninstalling urllib3-1.26.16:\n",
      "      Successfully uninstalled urllib3-1.26.16\n",
      "  Attempting uninstall: charset-normalizer\n",
      "    Found existing installation: charset-normalizer 2.0.4\n",
      "    Uninstalling charset-normalizer-2.0.4:\n",
      "      Successfully uninstalled charset-normalizer-2.0.4\n",
      "\u001b[31mERROR: pip's dependency resolver does not currently take into account all the packages that are installed. This behaviour is the source of the following dependency conflicts.\n",
      "botocore 1.29.76 requires urllib3<1.27,>=1.25.4, but you have urllib3 2.2.1 which is incompatible.\n",
      "s3fs 2023.4.0 requires fsspec==2023.4.0, but you have fsspec 2024.3.1 which is incompatible.\u001b[0m\u001b[31m\n",
      "\u001b[0mSuccessfully installed charset-normalizer-3.3.2 dataclasses-json-speakeasy-0.5.11 emoji-2.11.0 filetype-1.2.0 jsonpath-python-1.0.6 langdetect-1.0.9 python-iso639-2024.2.7 python-magic-0.4.27 rapidfuzz-3.8.1 unstructured-0.13.2 unstructured-client-0.18.0 urllib3-2.2.1\n",
      "Note: you may need to restart the kernel to use updated packages.\n"
     ]
    }
   ],
   "source": [
    "pip install unstructured"
   ]
  },
  {
   "cell_type": "code",
   "execution_count": 2,
   "id": "24fb0977",
   "metadata": {},
   "outputs": [
    {
     "name": "stdout",
     "output_type": "stream",
     "text": [
      "\u001b[33mDEPRECATION: Loading egg at /Users/venkatasamyuktamalapaka/.local/lib/python3.11/site-packages/mylinear_cpp-0.0.0-py3.11-macosx-11.1-arm64.egg is deprecated. pip 23.3 will enforce this behaviour change. A possible replacement is to use pip for package installation..\u001b[0m\u001b[33m\n",
      "\u001b[0mRequirement already satisfied: tiktoken in ./anaconda3/lib/python3.11/site-packages (0.6.0)\n",
      "Requirement already satisfied: regex>=2022.1.18 in ./anaconda3/lib/python3.11/site-packages (from tiktoken) (2022.7.9)\n",
      "Requirement already satisfied: requests>=2.26.0 in ./anaconda3/lib/python3.11/site-packages (from tiktoken) (2.31.0)\n",
      "Requirement already satisfied: charset-normalizer<4,>=2 in ./anaconda3/lib/python3.11/site-packages (from requests>=2.26.0->tiktoken) (3.3.2)\n",
      "Requirement already satisfied: idna<4,>=2.5 in ./anaconda3/lib/python3.11/site-packages (from requests>=2.26.0->tiktoken) (3.4)\n",
      "Requirement already satisfied: urllib3<3,>=1.21.1 in ./anaconda3/lib/python3.11/site-packages (from requests>=2.26.0->tiktoken) (2.2.1)\n",
      "Requirement already satisfied: certifi>=2017.4.17 in ./anaconda3/lib/python3.11/site-packages (from requests>=2.26.0->tiktoken) (2023.11.17)\n",
      "Note: you may need to restart the kernel to use updated packages.\n"
     ]
    }
   ],
   "source": [
    "pip install tiktoken"
   ]
  },
  {
   "cell_type": "code",
   "execution_count": 3,
   "id": "2a4a5fa0",
   "metadata": {},
   "outputs": [
    {
     "name": "stdout",
     "output_type": "stream",
     "text": [
      "\u001b[33mDEPRECATION: Loading egg at /Users/venkatasamyuktamalapaka/.local/lib/python3.11/site-packages/mylinear_cpp-0.0.0-py3.11-macosx-11.1-arm64.egg is deprecated. pip 23.3 will enforce this behaviour change. A possible replacement is to use pip for package installation..\u001b[0m\u001b[33m\n",
      "\u001b[0mCollecting pinecone-client\n",
      "  Obtaining dependency information for pinecone-client from https://files.pythonhosted.org/packages/cb/bb/c51fa42d85f431b3b3ec4c35a13a8bb99cafc0671918139a48767421d354/pinecone_client-3.2.2-py3-none-any.whl.metadata\n",
      "  Downloading pinecone_client-3.2.2-py3-none-any.whl.metadata (16 kB)\n",
      "Requirement already satisfied: certifi>=2019.11.17 in ./anaconda3/lib/python3.11/site-packages (from pinecone-client) (2023.11.17)\n",
      "Requirement already satisfied: tqdm>=4.64.1 in ./anaconda3/lib/python3.11/site-packages (from pinecone-client) (4.65.0)\n",
      "Requirement already satisfied: typing-extensions>=3.7.4 in ./anaconda3/lib/python3.11/site-packages (from pinecone-client) (4.11.0)\n",
      "Requirement already satisfied: urllib3>=1.26.0 in ./anaconda3/lib/python3.11/site-packages (from pinecone-client) (2.2.1)\n",
      "Downloading pinecone_client-3.2.2-py3-none-any.whl (215 kB)\n",
      "\u001b[2K   \u001b[90m━━━━━━━━━━━━━━━━━━━━━━━━━━━━━━━━━━━━━━━\u001b[0m \u001b[32m215.9/215.9 kB\u001b[0m \u001b[31m612.1 kB/s\u001b[0m eta \u001b[36m0:00:00\u001b[0ma \u001b[36m0:00:01\u001b[0m\n",
      "\u001b[?25hInstalling collected packages: pinecone-client\n",
      "Successfully installed pinecone-client-3.2.2\n",
      "Note: you may need to restart the kernel to use updated packages.\n"
     ]
    }
   ],
   "source": [
    "pip install pinecone-client"
   ]
  },
  {
   "cell_type": "code",
   "execution_count": 4,
   "id": "2dcaf3d3",
   "metadata": {},
   "outputs": [
    {
     "name": "stdout",
     "output_type": "stream",
     "text": [
      "\u001b[33mDEPRECATION: Loading egg at /Users/venkatasamyuktamalapaka/.local/lib/python3.11/site-packages/mylinear_cpp-0.0.0-py3.11-macosx-11.1-arm64.egg is deprecated. pip 23.3 will enforce this behaviour change. A possible replacement is to use pip for package installation..\u001b[0m\u001b[33m\n",
      "\u001b[0mCollecting pypdf\n",
      "  Obtaining dependency information for pypdf from https://files.pythonhosted.org/packages/c9/d1/450b19bbdbb2c802f554312c62ce2a2c0d8744fe14735bc70ad2803578c7/pypdf-4.2.0-py3-none-any.whl.metadata\n",
      "  Downloading pypdf-4.2.0-py3-none-any.whl.metadata (7.4 kB)\n",
      "Downloading pypdf-4.2.0-py3-none-any.whl (290 kB)\n",
      "\u001b[2K   \u001b[90m━━━━━━━━━━━━━━━━━━━━━━━━━━━━━━━━━━━━━━━━\u001b[0m \u001b[32m290.4/290.4 kB\u001b[0m \u001b[31m1.7 MB/s\u001b[0m eta \u001b[36m0:00:00\u001b[0ma \u001b[36m0:00:01\u001b[0mm\n",
      "\u001b[?25hInstalling collected packages: pypdf\n",
      "Successfully installed pypdf-4.2.0\n",
      "Note: you may need to restart the kernel to use updated packages.\n"
     ]
    }
   ],
   "source": [
    "pip install pypdf"
   ]
  },
  {
   "cell_type": "code",
   "execution_count": 44,
   "id": "10dd2d3f",
   "metadata": {},
   "outputs": [
    {
     "name": "stderr",
     "output_type": "stream",
     "text": [
      "huggingface/tokenizers: The current process just got forked, after parallelism has already been used. Disabling parallelism to avoid deadlocks...\n",
      "To disable this warning, you can either:\n",
      "\t- Avoid using `tokenizers` before the fork if possible\n",
      "\t- Explicitly set the environment variable TOKENIZERS_PARALLELISM=(true | false)\n"
     ]
    },
    {
     "name": "stdout",
     "output_type": "stream",
     "text": [
      "\u001b[33mDEPRECATION: Loading egg at /Users/venkatasamyuktamalapaka/.local/lib/python3.11/site-packages/mylinear_cpp-0.0.0-py3.11-macosx-11.1-arm64.egg is deprecated. pip 23.3 will enforce this behaviour change. A possible replacement is to use pip for package installation..\u001b[0m\u001b[33m\n",
      "\u001b[0mRequirement already satisfied: openai in ./anaconda3/lib/python3.11/site-packages (0.28.0)\n",
      "Collecting openai\n",
      "  Obtaining dependency information for openai from https://files.pythonhosted.org/packages/f9/d2/d093a77ae88abaf71ba92db2285d38fcd408961126351fc82d3a6e90f87b/openai-1.23.2-py3-none-any.whl.metadata\n",
      "  Downloading openai-1.23.2-py3-none-any.whl.metadata (21 kB)\n",
      "Requirement already satisfied: anyio<5,>=3.5.0 in ./anaconda3/lib/python3.11/site-packages (from openai) (3.5.0)\n",
      "Requirement already satisfied: distro<2,>=1.7.0 in ./anaconda3/lib/python3.11/site-packages (from openai) (1.9.0)\n",
      "Requirement already satisfied: httpx<1,>=0.23.0 in ./anaconda3/lib/python3.11/site-packages (from openai) (0.27.0)\n",
      "Requirement already satisfied: pydantic<3,>=1.9.0 in ./anaconda3/lib/python3.11/site-packages (from openai) (1.10.8)\n",
      "Requirement already satisfied: sniffio in ./anaconda3/lib/python3.11/site-packages (from openai) (1.2.0)\n",
      "Requirement already satisfied: tqdm>4 in ./anaconda3/lib/python3.11/site-packages (from openai) (4.65.0)\n",
      "Requirement already satisfied: typing-extensions<5,>=4.7 in ./anaconda3/lib/python3.11/site-packages (from openai) (4.11.0)\n",
      "Requirement already satisfied: idna>=2.8 in ./anaconda3/lib/python3.11/site-packages (from anyio<5,>=3.5.0->openai) (3.4)\n",
      "Requirement already satisfied: certifi in ./anaconda3/lib/python3.11/site-packages (from httpx<1,>=0.23.0->openai) (2023.11.17)\n",
      "Requirement already satisfied: httpcore==1.* in ./anaconda3/lib/python3.11/site-packages (from httpx<1,>=0.23.0->openai) (1.0.5)\n",
      "Requirement already satisfied: h11<0.15,>=0.13 in ./anaconda3/lib/python3.11/site-packages (from httpcore==1.*->httpx<1,>=0.23.0->openai) (0.14.0)\n",
      "Downloading openai-1.23.2-py3-none-any.whl (311 kB)\n",
      "\u001b[2K   \u001b[90m━━━━━━━━━━━━━━━━━━━━━━━━━━━━━━━━━━━━━━━━\u001b[0m \u001b[32m311.2/311.2 kB\u001b[0m \u001b[31m4.4 MB/s\u001b[0m eta \u001b[36m0:00:00\u001b[0ma \u001b[36m0:00:01\u001b[0m\n",
      "\u001b[?25hInstalling collected packages: openai\n",
      "  Attempting uninstall: openai\n",
      "    Found existing installation: openai 0.28.0\n",
      "    Uninstalling openai-0.28.0:\n",
      "      Successfully uninstalled openai-0.28.0\n",
      "Successfully installed openai-1.23.2\n",
      "Note: you may need to restart the kernel to use updated packages.\n"
     ]
    }
   ],
   "source": [
    "pip install --upgrade openai"
   ]
  },
  {
   "cell_type": "code",
   "execution_count": 1,
   "id": "08a544c3",
   "metadata": {},
   "outputs": [],
   "source": [
    "import openai\n",
    "import pinecone\n",
    "from langchain.document_loaders import PyPDFDirectoryLoader\n",
    "from langchain.text_splitter import RecursiveCharacterTextSplitter\n",
    "from langchain.embeddings.openai import OpenAIEmbeddings\n",
    "from openai import OpenAI\n",
    "\n",
    "from langchain_community.vectorstores import Pinecone \n",
    "from langchain_openai import OpenAI\n",
    "from langchain.embeddings.sentence_transformer import SentenceTransformerEmbeddings\n"
   ]
  },
  {
   "cell_type": "code",
   "execution_count": 2,
   "id": "9f0c5e5e",
   "metadata": {},
   "outputs": [],
   "source": [
    "import os\n",
    "os.environ[\"OPENAI_API_KEY\"] = \"\"\n",
    "os.environ[\"HUGGINGFACEHUB_API_TOKEN\"] = \"\""
   ]
  },
  {
   "cell_type": "markdown",
   "id": "f0ea0257",
   "metadata": {},
   "source": [
    "# Load Documents"
   ]
  },
  {
   "cell_type": "code",
   "execution_count": 3,
   "id": "db81082d",
   "metadata": {},
   "outputs": [],
   "source": [
    "def load_docs(directory):\n",
    "  loader = PyPDFDirectoryLoader(directory)\n",
    "  documents = loader.load()\n",
    "  return documents"
   ]
  },
  {
   "cell_type": "code",
   "execution_count": 4,
   "id": "b354ff4e",
   "metadata": {},
   "outputs": [
    {
     "data": {
      "text/plain": [
       "[Document(page_content=\"However, India also faces various socio-economic challenges. Poverty, income inequality, and \\nunemployment are persistent issues that the country strives to address. Efforts are being made\\nto improve education, healthcare, infrastructure, and social welfare programs to uplift \\nmarginalized sections of society.\\nEducation plays a vital role in India, with a strong emphasis on academic excellence. The \\ncountry has a vast network of schools, colleges, and universities, producing a large number of \\ngraduates every year. Indian professionals have made significant contributions in various fields \\nglobally, particularly in science, technology, engineering, and mathematics (STEM).\\nThe Indian film industry, popularly known as Bollywood, is a global phenomenon, producing the\\nlargest number of films annually. Indian cinema reflects the diversity and cultural richness of \\nthe country and has a massive following both within India and among the Indian diaspora \\nworldwide.\\nIndian cuisine is renowned for its flavors, spices, and regional specialties. Each state has its \\nown culinary traditions, offering a wide range of vegetarian and non-vegetarian dishes. Indian \\nfood has gained international popularity, with dishes like curry, biryani, dosa, and tandoori \\nbeing enjoyed by people worldwide.\\nThe Indian rupee is the official currency in the Republic of India. The rupee is subdivided into \\n100 paise. The issuance of the currency is controlled by the Reserve Bank of India.\\n₹ The Indian rupee sign ( ) is the currency symbol for the Indian rupee the official currency of \\nIndia\\nTourism is a significant contributor to India's economy. The country attracts millions of visitors \\neach year who come to explore its historical sites, architectural wonders, wildlife sanctuaries, \\nand scenic landscapes. Iconic landmarks such as the Taj Mahal, Jaipur's palaces, Kerala's \\nbackwaters, and the beaches of Goa are popular tourist destinations.\\nIndia's cultural heritage is preserved in its ancient monuments and UNESCO World Heritage \\nSites. From the intricate carvings of Khajuraho temples to the majestic forts of Rajasthan, these\\narchitectural marvels reflect India's rich history and artistic traditions.\\nIndia's diversity extends to its languages as well. While Hindi and English are the official \\nlanguages at the national level, there are 22 officially recognized regional languages, including \\nBengali, Tamil, Telugu, Marathi, Urdu, Punjabi, and Gujarati, among others. This linguistic \\ndiversity is a testament to India's multicultural ethos.\\nIn recent years, India has made significant strides in space exploration. The Indian Space \\nResearch Organization (ISRO) has successfully launched satellites and missions, including the\\nMars Orbiter Mission (MOM), also known as Mangalyaan. These achievements have placed \\nIndia among the elite group of nations with advanced space programs.\", metadata={'source': '/Users/venkatasamyuktamalapaka/Downloads/MCQ Creator App - Jupyter Notebook/Docs/Doc 2.pdf', 'page': 0}),\n",
       " Document(page_content=\"India's diplomatic influence is also growing on the global stage. The country actively \\nparticipates in international forums and has strong bilateral relations with nations around the \\nworld. India is a founding member of the Non-Aligned Movement and plays an active role in \\nvarious international organizations, such as the United Nations and World Trade Organization.\\nIn conclusion, India is a vast and diverse country with a rich cultural heritage, stunning \\nlandscapes, and a rapidly growing economy. It is a nation where ancient traditions coexist with \\nmodern aspirations. Despite its challenges, India continues to evolve and leave an indelible \\nmark on the world, making it a fascinating and dynamic country to explore.\", metadata={'source': '/Users/venkatasamyuktamalapaka/Downloads/MCQ Creator App - Jupyter Notebook/Docs/Doc 2.pdf', 'page': 1}),\n",
       " Document(page_content=\"India, officially known as the Republic of India, is a diverse and vibrant country located in South\\nAsia. With a rich history spanning thousands of years, India is known for its cultural heritage, \\nreligious diversity, and vast landscapes. From the majestic Himalayas in the north to the serene\\nbackwaters of Kerala in the south, India encompasses a wide range of geographical features, \\nincluding deserts, plains, mountains, and coastlines, making it a land of incredible natural \\nbeauty.\\nIndia is the seventh-largest country by land area and the second-most populous country in the \\nworld, with a population exceeding 1.3 billion people. It is a federal parliamentary democratic \\nrepublic, with a president as the head of state and a prime minister as the head of government. \\nThe country follows a multi-tiered administrative structure, with 28 states and 9 union territories,\\neach having its own elected government.\\nIndia has a rich cultural heritage that has evolved over thousands of years. It is home to various\\nreligions, including Hinduism, Islam, Christianity, Sikhism, Buddhism, and Jainism, among \\nothers. These religions coexist harmoniously, contributing to India's multicultural fabric. \\nFestivals like Diwali, Eid, Christmas, and Holi are celebrated with great enthusiasm and bring \\npeople from different communities together.\\nThe history of India is characterized by ancient civilizations, invasions, and the establishment of\\npowerful empires. The Indus Valley Civilization, one of the world's oldest urban civilizations, \\nflourished in the northwestern part of the Indian subcontinent around 2500 BCE. Over the \\ncenturies, India witnessed the rise and fall of several dynasties, including the Maurya, Gupta, \\nand Mughal empires. The Mughal period, in particular, left a lasting impact on Indian culture, \\nart, and architecture.\\nIndia's struggle for independence from British colonial rule is a significant chapter in its history. \\nLed by Mahatma Gandhi and other freedom fighters, the non-violent resistance movement \\ngained momentum and eventually led to India's independence on August 15, 1947. This day is \\ncelebrated annually as Independence Day.\\nIndia's economy is one of the fastest-growing in the world. It has transitioned from an agrarian \\neconomy to a service-oriented and industrialized economy. The country is known for its \\nsoftware and information technology services, pharmaceuticals, textiles, agriculture, and \\nmanufacturing sectors. Major cities like Mumbai, Delhi, Bangalore, and Chennai are hubs of \\nbusiness and commerce, attracting investments and fostering innovation.\\nDelhi is the capital of India\", metadata={'source': '/Users/venkatasamyuktamalapaka/Downloads/MCQ Creator App - Jupyter Notebook/Docs/Doc 1.pdf', 'page': 0})]"
      ]
     },
     "execution_count": 4,
     "metadata": {},
     "output_type": "execute_result"
    }
   ],
   "source": [
    "directory = '/Users/venkatasamyuktamalapaka/Downloads/MCQ Creator App - Jupyter Notebook/Docs/'\n",
    "documents = load_docs(directory)\n",
    "len(documents)\n",
    "documents"
   ]
  },
  {
   "cell_type": "code",
   "execution_count": 5,
   "id": "1507a9d5",
   "metadata": {},
   "outputs": [],
   "source": [
    "def split_docs(documents, chunk_size=1000, chunk_overlap=20):\n",
    "  text_splitter = RecursiveCharacterTextSplitter(chunk_size=chunk_size, chunk_overlap=chunk_overlap)\n",
    "  docs = text_splitter.split_documents(documents)\n",
    "  return docs"
   ]
  },
  {
   "cell_type": "code",
   "execution_count": 6,
   "id": "0a43b27d",
   "metadata": {},
   "outputs": [
    {
     "name": "stdout",
     "output_type": "stream",
     "text": [
      "7\n"
     ]
    }
   ],
   "source": [
    "docs = split_docs(documents)\n",
    "print(len(docs))"
   ]
  },
  {
   "cell_type": "markdown",
   "id": "d3941eaa",
   "metadata": {},
   "source": [
    "# Generate Text Embeddings"
   ]
  },
  {
   "cell_type": "code",
   "execution_count": 7,
   "id": "09bbd64f",
   "metadata": {},
   "outputs": [],
   "source": [
    "embeddings = SentenceTransformerEmbeddings(model_name=\"all-MiniLM-L6-v2\")"
   ]
  },
  {
   "cell_type": "code",
   "execution_count": 8,
   "id": "62326227",
   "metadata": {},
   "outputs": [
    {
     "data": {
      "text/plain": [
       "384"
      ]
     },
     "execution_count": 8,
     "metadata": {},
     "output_type": "execute_result"
    }
   ],
   "source": [
    "query_result = embeddings.embed_query(\"Hello Buddy\")\n",
    "len(query_result)"
   ]
  },
  {
   "cell_type": "code",
   "execution_count": 9,
   "id": "675e438e",
   "metadata": {},
   "outputs": [
    {
     "data": {
      "text/plain": [
       "[-0.06978835165500641,\n",
       " 0.054206252098083496,\n",
       " 0.07814781367778778,\n",
       " 0.03390127047896385,\n",
       " 0.024947447702288628,\n",
       " -0.09673726558685303,\n",
       " 0.059523142874240875,\n",
       " 0.05897814780473709,\n",
       " -0.017896678298711777,\n",
       " -0.023178912699222565,\n",
       " -0.019000209867954254,\n",
       " 0.0005969059420749545,\n",
       " 0.024666020646691322,\n",
       " -0.07030827552080154,\n",
       " -0.00752254668623209,\n",
       " 0.010224460624158382,\n",
       " -0.011180869303643703,\n",
       " -0.02124849706888199,\n",
       " -0.038594502955675125,\n",
       " 0.026550332084298134,\n",
       " -0.06505248695611954,\n",
       " 0.06500023603439331,\n",
       " 0.009431770071387291,\n",
       " -0.06271220743656158,\n",
       " -0.023625414818525314,\n",
       " -0.030638106167316437,\n",
       " 0.05996120348572731,\n",
       " 0.07367483526468277,\n",
       " -0.03286786749958992,\n",
       " -0.02606109529733658,\n",
       " -0.006967152934521437,\n",
       " 0.030617911368608475,\n",
       " 0.05939670279622078,\n",
       " 0.0014720770996063948,\n",
       " 0.012021711096167564,\n",
       " 0.028293751180171967,\n",
       " -0.059225305914878845,\n",
       " -0.07919752597808838,\n",
       " 0.048963673412799835,\n",
       " 0.023090001195669174,\n",
       " 0.05536280572414398,\n",
       " -0.026251330971717834,\n",
       " -0.017321180552244186,\n",
       " 0.005511151161044836,\n",
       " 0.05862755328416824,\n",
       " -0.02973802573978901,\n",
       " 0.04626709595322609,\n",
       " 0.04452728107571602,\n",
       " 0.03799327462911606,\n",
       " -0.032441578805446625,\n",
       " -0.032030586153268814,\n",
       " -0.07459980249404907,\n",
       " -0.09915480762720108,\n",
       " 0.05860234051942825,\n",
       " 0.09203112870454788,\n",
       " 0.0721588060259819,\n",
       " -0.04752403870224953,\n",
       " 0.008467195555567741,\n",
       " 0.00885358639061451,\n",
       " -0.06717108935117722,\n",
       " -0.05602797865867615,\n",
       " 0.012392175383865833,\n",
       " -0.07076597213745117,\n",
       " -0.07935750484466553,\n",
       " 0.025537816807627678,\n",
       " -0.02874681167304516,\n",
       " -0.06868759542703629,\n",
       " 0.028787655755877495,\n",
       " -0.03750843182206154,\n",
       " -0.03945609927177429,\n",
       " -0.045078493654727936,\n",
       " 0.04845906049013138,\n",
       " 0.01331858430057764,\n",
       " 0.021408013999462128,\n",
       " -0.05790059268474579,\n",
       " -0.008303118869662285,\n",
       " 0.03104621171951294,\n",
       " 0.07448343932628632,\n",
       " 0.028353547677397728,\n",
       " -0.018620027229189873,\n",
       " -0.0409039668738842,\n",
       " -0.0701877772808075,\n",
       " -0.00855107419192791,\n",
       " -0.012738660909235477,\n",
       " 0.02206621691584587,\n",
       " -0.04596153274178505,\n",
       " -0.008397543802857399,\n",
       " 0.014853248372673988,\n",
       " 0.002740029711276293,\n",
       " 0.034601569175720215,\n",
       " -0.0920640379190445,\n",
       " 0.08678361773490906,\n",
       " 0.09252092987298965,\n",
       " 0.019639093428850174,\n",
       " -0.05295180901885033,\n",
       " -0.04308950528502464,\n",
       " 0.07335447520017624,\n",
       " 0.015686294063925743,\n",
       " -0.1331310123205185,\n",
       " 0.18892928957939148,\n",
       " 0.07705485820770264,\n",
       " 0.07706543803215027,\n",
       " 0.022753575816750526,\n",
       " 0.0036706107202917337,\n",
       " 0.03158927708864212,\n",
       " 0.022912289947271347,\n",
       " -0.058326974511146545,\n",
       " 0.0916619524359703,\n",
       " -0.026274286210536957,\n",
       " -0.026973312720656395,\n",
       " -0.02190718986093998,\n",
       " -0.009309360757470131,\n",
       " -0.027233418077230453,\n",
       " 0.05238278955221176,\n",
       " 0.07760743051767349,\n",
       " -0.000519827997777611,\n",
       " -0.0206808652728796,\n",
       " 0.07939445227384567,\n",
       " -0.07065000385046005,\n",
       " -0.004898599814623594,\n",
       " -0.013677890412509441,\n",
       " 0.012933011166751385,\n",
       " -0.03210906311869621,\n",
       " 0.02353701740503311,\n",
       " 0.013630030676722527,\n",
       " -0.0384150855243206,\n",
       " 0.02405526116490364,\n",
       " -4.7437151669250185e-33,\n",
       " 0.03858181834220886,\n",
       " -0.036322563886642456,\n",
       " 0.056804388761520386,\n",
       " 0.20758984982967377,\n",
       " -0.06085411459207535,\n",
       " 0.009389511309564114,\n",
       " -0.03535960242152214,\n",
       " -0.01932981051504612,\n",
       " 0.004193484783172607,\n",
       " 0.001778303412720561,\n",
       " 0.06255519390106201,\n",
       " 0.0713202953338623,\n",
       " -0.05347532033920288,\n",
       " 0.042722854763269424,\n",
       " 0.02645350806415081,\n",
       " 0.05890122428536415,\n",
       " -0.1057061105966568,\n",
       " 0.0649079903960228,\n",
       " 0.04039432853460312,\n",
       " 0.009129717946052551,\n",
       " -0.06505542248487473,\n",
       " -0.047867804765701294,\n",
       " 0.0006098973099142313,\n",
       " 0.047921448945999146,\n",
       " 0.02253049425780773,\n",
       " 0.0002792550076264888,\n",
       " 0.04671044275164604,\n",
       " -0.08153349161148071,\n",
       " 0.027178868651390076,\n",
       " 0.0420861653983593,\n",
       " -0.05766584724187851,\n",
       " -0.02844318002462387,\n",
       " 0.025673966854810715,\n",
       " 0.03745705634355545,\n",
       " -0.013693645596504211,\n",
       " 0.005312053021043539,\n",
       " 0.06007685139775276,\n",
       " -0.06595899164676666,\n",
       " -0.08369919657707214,\n",
       " -0.0345815010368824,\n",
       " -0.030660785734653473,\n",
       " 0.04927729070186615,\n",
       " -0.01787114515900612,\n",
       " 0.008619077503681183,\n",
       " 0.03906626254320145,\n",
       " -0.027273476123809814,\n",
       " 0.016427678987383842,\n",
       " 0.012519638054072857,\n",
       " -0.01082401443272829,\n",
       " -0.0069544049911201,\n",
       " -0.028586719185113907,\n",
       " 0.040284525603055954,\n",
       " -0.05977820232510567,\n",
       " 0.0701225996017456,\n",
       " -0.06822261959314346,\n",
       " -0.03562339395284653,\n",
       " 0.03436658903956413,\n",
       " 0.00755980284884572,\n",
       " -0.005428546108305454,\n",
       " -0.013946489430963993,\n",
       " 0.019693808630108833,\n",
       " 0.11176680773496628,\n",
       " -0.031077897176146507,\n",
       " -0.010961007326841354,\n",
       " -0.06446176767349243,\n",
       " -0.016045743599534035,\n",
       " 0.08664114773273468,\n",
       " -0.030396558344364166,\n",
       " 0.04842618852853775,\n",
       " -0.06848317384719849,\n",
       " 0.0029434950556606054,\n",
       " 0.01699373684823513,\n",
       " 0.034423407167196274,\n",
       " -0.05967586115002632,\n",
       " 0.01441564317792654,\n",
       " 0.05336698517203331,\n",
       " -0.005778976250439882,\n",
       " -0.07200738042593002,\n",
       " 0.01299864612519741,\n",
       " -0.007748802192509174,\n",
       " 0.013700454495847225,\n",
       " 0.011358398012816906,\n",
       " -0.007765755522996187,\n",
       " -0.03788779675960541,\n",
       " 0.06661567091941833,\n",
       " 0.06453314423561096,\n",
       " 0.0060288202948868275,\n",
       " -0.061929795891046524,\n",
       " -0.057016242295503616,\n",
       " -0.09005875140428543,\n",
       " -0.14298105239868164,\n",
       " 0.020345302298665047,\n",
       " 0.028676185756921768,\n",
       " 0.03246556967496872,\n",
       " -0.03260538727045059,\n",
       " 3.4405051915958126e-33,\n",
       " 0.09627875685691833,\n",
       " 0.04448719695210457,\n",
       " -0.04238716885447502,\n",
       " -0.05336540937423706,\n",
       " -0.012616937980055809,\n",
       " -0.0012779808603227139,\n",
       " -0.046446774154901505,\n",
       " 0.07411839812994003,\n",
       " -0.12352922558784485,\n",
       " -0.007119485642760992,\n",
       " -0.00869918242096901,\n",
       " -0.050715766847133636,\n",
       " 0.08202647417783737,\n",
       " -0.010096331126987934,\n",
       " 0.04455672949552536,\n",
       " 0.09078036993741989,\n",
       " 0.060651976615190506,\n",
       " 0.03783891722559929,\n",
       " -0.017836013808846474,\n",
       " -0.02245471626520157,\n",
       " -0.06918346136808395,\n",
       " -0.016655802726745605,\n",
       " -0.026509728282690048,\n",
       " 0.025623004883527756,\n",
       " -0.06020241975784302,\n",
       " -0.009123256430029869,\n",
       " 0.003017478622496128,\n",
       " 0.0015857560792937875,\n",
       " -0.07711764425039291,\n",
       " -0.06069721654057503,\n",
       " 0.10801766812801361,\n",
       " 0.017874596640467644,\n",
       " -0.053227417171001434,\n",
       " 0.02397778257727623,\n",
       " -0.013594995252788067,\n",
       " 0.09174282103776932,\n",
       " 0.028409404680132866,\n",
       " -0.047730136662721634,\n",
       " -0.011409720405936241,\n",
       " -0.11023152619600296,\n",
       " -0.047754209488630295,\n",
       " 0.03513940051198006,\n",
       " -0.05509572476148605,\n",
       " 0.029237626120448112,\n",
       " -0.01975925825536251,\n",
       " -0.058055583387613297,\n",
       " 0.09778173267841339,\n",
       " 0.008509373292326927,\n",
       " -0.02062121592462063,\n",
       " 0.017002994194626808,\n",
       " -0.1062241867184639,\n",
       " 0.005269729532301426,\n",
       " -0.01126430556178093,\n",
       " -0.040617942810058594,\n",
       " -0.054816313087940216,\n",
       " -0.044393692165613174,\n",
       " -0.02569725550711155,\n",
       " 0.035832639783620834,\n",
       " -0.03141411393880844,\n",
       " -0.013334532268345356,\n",
       " 0.05045577883720398,\n",
       " 0.10049018263816833,\n",
       " 0.029927313327789307,\n",
       " 0.07950963079929352,\n",
       " 0.018311958760023117,\n",
       " 0.05659248307347298,\n",
       " -0.049681149423122406,\n",
       " 0.01687062345445156,\n",
       " -0.023038635030388832,\n",
       " -0.04762730002403259,\n",
       " 0.008080270141363144,\n",
       " 0.05561903864145279,\n",
       " 0.028932927176356316,\n",
       " 0.030480798333883286,\n",
       " -0.004192286636680365,\n",
       " -0.019336216151714325,\n",
       " 0.06739480048418045,\n",
       " 0.004616941791027784,\n",
       " -0.027756528928875923,\n",
       " 0.051674164831638336,\n",
       " -0.024105601012706757,\n",
       " 0.015810959041118622,\n",
       " 0.04082443192601204,\n",
       " 0.06979387998580933,\n",
       " -0.06612452119588852,\n",
       " -0.017000837251544,\n",
       " 0.07013270258903503,\n",
       " 0.07647682726383209,\n",
       " 0.003345893230289221,\n",
       " -0.015093882568180561,\n",
       " 0.0009143262286670506,\n",
       " 0.004818728659301996,\n",
       " -0.1037110984325409,\n",
       " 0.018684733659029007,\n",
       " -0.02277355268597603,\n",
       " -1.6008883108042937e-08,\n",
       " -0.033795155584812164,\n",
       " 0.05985536053776741,\n",
       " -0.03635530546307564,\n",
       " 0.06778041273355484,\n",
       " 0.05005521699786186,\n",
       " 0.06447289884090424,\n",
       " -0.08214759826660156,\n",
       " -0.027982158586382866,\n",
       " 0.05528419464826584,\n",
       " 0.043998513370752335,\n",
       " 0.07301624119281769,\n",
       " 0.0295322947204113,\n",
       " -0.06715995818376541,\n",
       " 0.02424825169146061,\n",
       " 0.08193707466125488,\n",
       " 0.06140388920903206,\n",
       " -0.05148807540535927,\n",
       " -0.011589963920414448,\n",
       " -0.04694134742021561,\n",
       " -0.06341463327407837,\n",
       " -0.03248704969882965,\n",
       " 0.022975562140345573,\n",
       " 0.052110906690359116,\n",
       " -0.026350103318691254,\n",
       " -0.0012115678982809186,\n",
       " 0.007197812665253878,\n",
       " -0.06705578416585922,\n",
       " 0.04292185604572296,\n",
       " -0.02323414757847786,\n",
       " -0.04127398878335953,\n",
       " 0.002370069269090891,\n",
       " 0.13688531517982483,\n",
       " -0.019106226041913033,\n",
       " -0.008777672424912453,\n",
       " 0.0009235335164703429,\n",
       " -0.02322494424879551,\n",
       " 0.04884274676442146,\n",
       " 0.0446847528219223,\n",
       " 0.0429549366235733,\n",
       " 0.02351193316280842,\n",
       " -0.055641159415245056,\n",
       " -0.01492330338805914,\n",
       " -0.023078514263033867,\n",
       " -0.09206122159957886,\n",
       " -0.019425198435783386,\n",
       " 0.04348481073975563,\n",
       " 0.0874694362282753,\n",
       " -0.10251270979642868,\n",
       " 0.006789961829781532,\n",
       " -0.07210738956928253,\n",
       " -0.05534245818853378,\n",
       " 0.0346711091697216,\n",
       " 0.03941787779331207,\n",
       " 0.06323451548814774,\n",
       " 0.06754033267498016,\n",
       " 0.051186610013246536,\n",
       " 0.0019086615648120642,\n",
       " 0.00015881397121120244,\n",
       " -0.0571918860077858,\n",
       " -0.023087792098522186,\n",
       " 0.04198143258690834,\n",
       " 0.08144469559192657,\n",
       " 0.020753908902406693,\n",
       " -0.005565095227211714]"
      ]
     },
     "execution_count": 9,
     "metadata": {},
     "output_type": "execute_result"
    }
   ],
   "source": [
    "query_result"
   ]
  },
  {
   "cell_type": "markdown",
   "id": "7bdf9fe5",
   "metadata": {},
   "source": [
    "# VectorStore - PINECONE"
   ]
  },
  {
   "cell_type": "code",
   "execution_count": 10,
   "id": "720f6608",
   "metadata": {},
   "outputs": [],
   "source": [
    "from pinecone import Pinecone as PineconeClient \n",
    "from langchain_community.vectorstores import Pinecone\n",
    "\n",
    "os.environ[\"PINECONE_API_KEY\"] = \"50b78f61-9dee-49b1-af4e-131a7f73ccdc\"\n",
    "PINECONE_API_KEY=os.getenv(\"‘PINECONE_API_KEY’\")\n",
    "\n",
    "PineconeClient(api_key=PINECONE_API_KEY, environment=\"gcp-starter\")\n",
    "index_name=\"mcqcreator\"\n",
    "index = Pinecone.from_documents(docs, embeddings, index_name=index_name)"
   ]
  },
  {
   "cell_type": "markdown",
   "id": "a5f13bf5",
   "metadata": {},
   "source": [
    "# Retrieve documents"
   ]
  },
  {
   "cell_type": "code",
   "execution_count": 11,
   "id": "2f45e4de",
   "metadata": {},
   "outputs": [],
   "source": [
    "from langchain.chains.question_answering import load_qa_chain\n",
    "\n",
    "from langchain.llms import HuggingFaceEndpoint"
   ]
  },
  {
   "cell_type": "code",
   "execution_count": 12,
   "id": "8463f0aa",
   "metadata": {},
   "outputs": [],
   "source": [
    "def get_similiar_docs(query, k=2):\n",
    "    similar_docs = index.similarity_search(query, k=k)\n",
    "    return similar_docs"
   ]
  },
  {
   "cell_type": "code",
   "execution_count": 13,
   "id": "2f70c3cf",
   "metadata": {},
   "outputs": [],
   "source": [
    "llm = OpenAI()"
   ]
  },
  {
   "cell_type": "code",
   "execution_count": 14,
   "id": "c12e2939",
   "metadata": {},
   "outputs": [],
   "source": [
    "chain = load_qa_chain(llm, chain_type=\"stuff\")"
   ]
  },
  {
   "cell_type": "code",
   "execution_count": 21,
   "id": "9da85239",
   "metadata": {},
   "outputs": [],
   "source": [
    "def get_answer(query):\n",
    "  relevant_docs = get_similiar_docs(query)\n",
    "  print(relevant_docs)\n",
    "  response = chain.run(input_documents = relevant_docs, question=query)\n",
    "  return response"
   ]
  },
  {
   "cell_type": "code",
   "execution_count": 22,
   "id": "962808d1",
   "metadata": {},
   "outputs": [
    {
     "name": "stdout",
     "output_type": "stream",
     "text": [
      "[Document(page_content='However, India also faces various socio-economic challenges. Poverty, income inequality, and \\nunemployment are persistent issues that the country strives to address. Efforts are being made\\nto improve education, healthcare, infrastructure, and social welfare programs to uplift \\nmarginalized sections of society.\\nEducation plays a vital role in India, with a strong emphasis on academic excellence. The \\ncountry has a vast network of schools, colleges, and universities, producing a large number of \\ngraduates every year. Indian professionals have made significant contributions in various fields \\nglobally, particularly in science, technology, engineering, and mathematics (STEM).\\nThe Indian film industry, popularly known as Bollywood, is a global phenomenon, producing the\\nlargest number of films annually. Indian cinema reflects the diversity and cultural richness of \\nthe country and has a massive following both within India and among the Indian diaspora \\nworldwide.', metadata={'page': 0.0, 'source': '/Users/venkatasamyuktamalapaka/Downloads/MCQ Creator App - Jupyter Notebook/Docs/Doc 2.pdf'}), Document(page_content='However, India also faces various socio-economic challenges. Poverty, income inequality, and \\nunemployment are persistent issues that the country strives to address. Efforts are being made\\nto improve education, healthcare, infrastructure, and social welfare programs to uplift \\nmarginalized sections of society.\\nEducation plays a vital role in India, with a strong emphasis on academic excellence. The \\ncountry has a vast network of schools, colleges, and universities, producing a large number of \\ngraduates every year. Indian professionals have made significant contributions in various fields \\nglobally, particularly in science, technology, engineering, and mathematics (STEM).\\nThe Indian film industry, popularly known as Bollywood, is a global phenomenon, producing the\\nlargest number of films annually. Indian cinema reflects the diversity and cultural richness of \\nthe country and has a massive following both within India and among the Indian diaspora \\nworldwide.', metadata={'page': 0.0, 'source': '/Users/venkatasamyuktamalapaka/Downloads/MCQ Creator App - Jupyter Notebook/Docs/Doc 2.pdf'})]\n",
      " I don't know. The context doesn't provide enough information about India's economy.\n"
     ]
    }
   ],
   "source": [
    "our_query = \"How is India's economy?\"\n",
    "answer = get_answer(our_query)\n",
    "print(answer)"
   ]
  },
  {
   "cell_type": "markdown",
   "id": "7c3dece6",
   "metadata": {},
   "source": [
    "\n",
    "# Structure Output"
   ]
  },
  {
   "cell_type": "code",
   "execution_count": 23,
   "id": "3e230977",
   "metadata": {},
   "outputs": [],
   "source": [
    "import re\n",
    "import json"
   ]
  },
  {
   "cell_type": "code",
   "execution_count": 24,
   "id": "858a26f1",
   "metadata": {},
   "outputs": [],
   "source": [
    "from langchain.chat_models import ChatOpenAI \n",
    "from langchain_openai import ChatOpenAI\n",
    "from langchain.schema import HumanMessage\n",
    "from langchain.prompts import PromptTemplate, ChatPromptTemplate, HumanMessagePromptTemplate\n",
    "from langchain.output_parsers import StructuredOutputParser, ResponseSchema"
   ]
  },
  {
   "cell_type": "code",
   "execution_count": 25,
   "id": "838eb48b",
   "metadata": {},
   "outputs": [
    {
     "data": {
      "text/plain": [
       "StructuredOutputParser(response_schemas=[ResponseSchema(name='question', description='Question generated from provided input text data.', type='string'), ResponseSchema(name='choices', description='Available options for a multiple-choice question in comma separated.', type='string'), ResponseSchema(name='answer', description='Correct answer for the asked question.', type='string')])"
      ]
     },
     "execution_count": 25,
     "metadata": {},
     "output_type": "execute_result"
    }
   ],
   "source": [
    "response_schemas = [\n",
    "    ResponseSchema(name=\"question\", description=\"Question generated from provided input text data.\"),\n",
    "    ResponseSchema(name=\"choices\", description=\"Available options for a multiple-choice question in comma separated.\"),\n",
    "    ResponseSchema(name=\"answer\", description=\"Correct answer for the asked question.\")\n",
    "]\n",
    "\n",
    "output_parser = StructuredOutputParser.from_response_schemas(response_schemas)\n",
    "output_parser"
   ]
  },
  {
   "cell_type": "code",
   "execution_count": 26,
   "id": "f946fd22",
   "metadata": {},
   "outputs": [
    {
     "name": "stdout",
     "output_type": "stream",
     "text": [
      "The output should be a markdown code snippet formatted in the following schema, including the leading and trailing \"```json\" and \"```\":\n",
      "\n",
      "```json\n",
      "{\n",
      "\t\"question\": string  // Question generated from provided input text data.\n",
      "\t\"choices\": string  // Available options for a multiple-choice question in comma separated.\n",
      "\t\"answer\": string  // Correct answer for the asked question.\n",
      "}\n",
      "```\n"
     ]
    }
   ],
   "source": [
    "format_instructions = output_parser.get_format_instructions()\n",
    " \n",
    "print(format_instructions)"
   ]
  },
  {
   "cell_type": "code",
   "execution_count": 27,
   "id": "9c98f0aa",
   "metadata": {},
   "outputs": [
    {
     "data": {
      "text/plain": [
       "ChatOpenAI(client=<openai.resources.chat.completions.Completions object at 0x2d8de26d0>, async_client=<openai.resources.chat.completions.AsyncCompletions object at 0x283b78e10>, openai_api_key=SecretStr('**********'), openai_proxy='')"
      ]
     },
     "execution_count": 27,
     "metadata": {},
     "output_type": "execute_result"
    }
   ],
   "source": [
    "chat_model = ChatOpenAI()\n",
    "chat_model"
   ]
  },
  {
   "cell_type": "code",
   "execution_count": 28,
   "id": "311b7395",
   "metadata": {},
   "outputs": [],
   "source": [
    "prompt = ChatPromptTemplate(\n",
    "    messages=[\n",
    "        HumanMessagePromptTemplate.from_template(\"\"\"When a text input is given by the user, please generate multiple choice questions \n",
    "        from it along with the correct answer. \n",
    "        \\n{format_instructions}\\n{user_prompt}\"\"\")  \n",
    "    ],\n",
    "    input_variables=[\"user_prompt\"],\n",
    "    partial_variables={\"format_instructions\": format_instructions}\n",
    ")"
   ]
  },
  {
   "cell_type": "code",
   "execution_count": 29,
   "id": "51329961",
   "metadata": {},
   "outputs": [
    {
     "name": "stdout",
     "output_type": "stream",
     "text": [
      "messages=[HumanMessage(content='When a text input is given by the user, please generate multiple choice questions \\n        from it along with the correct answer. \\n        \\nThe output should be a markdown code snippet formatted in the following schema, including the leading and trailing \"```json\" and \"```\":\\n\\n```json\\n{\\n\\t\"question\": string  // Question generated from provided input text data.\\n\\t\"choices\": string  // Available options for a multiple-choice question in comma separated.\\n\\t\"answer\": string  // Correct answer for the asked question.\\n}\\n```\\n I don\\'t know. The context doesn\\'t provide enough information about India\\'s economy.')]\n"
     ]
    }
   ],
   "source": [
    "final_query = prompt.format_prompt(user_prompt = answer)\n",
    "print(final_query)"
   ]
  },
  {
   "cell_type": "code",
   "execution_count": 30,
   "id": "84046c8e",
   "metadata": {},
   "outputs": [
    {
     "data": {
      "text/plain": [
       "[HumanMessage(content='When a text input is given by the user, please generate multiple choice questions \\n        from it along with the correct answer. \\n        \\nThe output should be a markdown code snippet formatted in the following schema, including the leading and trailing \"```json\" and \"```\":\\n\\n```json\\n{\\n\\t\"question\": string  // Question generated from provided input text data.\\n\\t\"choices\": string  // Available options for a multiple-choice question in comma separated.\\n\\t\"answer\": string  // Correct answer for the asked question.\\n}\\n```\\n I don\\'t know. The context doesn\\'t provide enough information about India\\'s economy.')]"
      ]
     },
     "execution_count": 30,
     "metadata": {},
     "output_type": "execute_result"
    }
   ],
   "source": [
    "final_query.to_messages()"
   ]
  },
  {
   "cell_type": "code",
   "execution_count": 31,
   "id": "81180eda",
   "metadata": {},
   "outputs": [
    {
     "name": "stdout",
     "output_type": "stream",
     "text": [
      "```json\n",
      "{\n",
      "\t\"question\": \"What is the capital city of India?\",\n",
      "\t\"choices\": \"Delhi, Mumbai, Kolkata, Chennai\",\n",
      "\t\"answer\": \"Delhi\"\n",
      "}\n",
      "```\n"
     ]
    }
   ],
   "source": [
    "final_query_output = chat_model.invoke(final_query.to_messages())\n",
    "print(final_query_output.content)"
   ]
  },
  {
   "cell_type": "code",
   "execution_count": 32,
   "id": "8657eb70",
   "metadata": {},
   "outputs": [],
   "source": [
    "markdown_text = final_query_output.content\n",
    "json_string = re.search(r'{(.*?)}', markdown_text, re.DOTALL).group(1)"
   ]
  },
  {
   "cell_type": "code",
   "execution_count": 33,
   "id": "fe04ccaf",
   "metadata": {},
   "outputs": [
    {
     "name": "stdout",
     "output_type": "stream",
     "text": [
      "\n",
      "\t\"question\": \"What is the capital city of India?\",\n",
      "\t\"choices\": \"Delhi, Mumbai, Kolkata, Chennai\",\n",
      "\t\"answer\": \"Delhi\"\n",
      "\n"
     ]
    }
   ],
   "source": [
    "print(json_string)"
   ]
  },
  {
   "cell_type": "code",
   "execution_count": null,
   "id": "f79165d0",
   "metadata": {},
   "outputs": [],
   "source": []
  }
 ],
 "metadata": {
  "kernelspec": {
   "display_name": "Python 3 (ipykernel)",
   "language": "python",
   "name": "python3"
  },
  "language_info": {
   "codemirror_mode": {
    "name": "ipython",
    "version": 3
   },
   "file_extension": ".py",
   "mimetype": "text/x-python",
   "name": "python",
   "nbconvert_exporter": "python",
   "pygments_lexer": "ipython3",
   "version": "3.11.5"
  }
 },
 "nbformat": 4,
 "nbformat_minor": 5
}
