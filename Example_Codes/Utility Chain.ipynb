{
 "cells": [
  {
   "cell_type": "markdown",
   "id": "4dd51605",
   "metadata": {},
   "source": [
    "# Utility Chains"
   ]
  },
  {
   "cell_type": "code",
   "execution_count": 1,
   "id": "189891eb",
   "metadata": {},
   "outputs": [],
   "source": [
    "import os\n",
    "os.environ[\"OPENAI_API_KEY\"] = \"\""
   ]
  },
  {
   "cell_type": "code",
   "execution_count": 2,
   "id": "0ccd80a9",
   "metadata": {},
   "outputs": [],
   "source": [
    "from langchain.llms import OpenAI\n",
    "from langchain.prompts import PromptTemplate\n",
    "from langchain.chains.summarize import load_summarize_chain\n",
    "from langchain.text_splitter import CharacterTextSplitter\n",
    "from langchain.docstore.document import Document"
   ]
  },
  {
   "cell_type": "code",
   "execution_count": 3,
   "id": "b47ee10d",
   "metadata": {},
   "outputs": [
    {
     "name": "stderr",
     "output_type": "stream",
     "text": [
      "/Users/venkatasamyuktamalapaka/anaconda3/lib/python3.11/site-packages/langchain_core/_api/deprecation.py:117: LangChainDeprecationWarning: The class `langchain_community.llms.openai.OpenAI` was deprecated in langchain-community 0.0.10 and will be removed in 0.2.0. An updated version of the class exists in the langchain-openai package and should be used instead. To use it run `pip install -U langchain-openai` and import as `from langchain_openai import OpenAI`.\n",
      "  warn_deprecated(\n"
     ]
    }
   ],
   "source": [
    "llm = OpenAI(temperature=0.9)"
   ]
  },
  {
   "cell_type": "code",
   "execution_count": 4,
   "id": "98a49974",
   "metadata": {},
   "outputs": [],
   "source": [
    "with open('/Users/venkatasamyuktamalapaka/Downloads/Data Connections - Python Code/Sample.txt') as d:\n",
    "    data = d.read()  "
   ]
  },
  {
   "cell_type": "code",
   "execution_count": 5,
   "id": "b4449f56",
   "metadata": {},
   "outputs": [],
   "source": [
    "text_splitter = CharacterTextSplitter()\n",
    "texts = text_splitter.split_text(data)"
   ]
  },
  {
   "cell_type": "code",
   "execution_count": 6,
   "id": "79d39aca",
   "metadata": {},
   "outputs": [
    {
     "data": {
      "text/plain": [
       "[Document(page_content=\"India, officially known as the Republic of India, is a diverse and vibrant country located in South Asia. With a rich history spanning thousands of years, India is known for its cultural heritage, religious diversity, and vast landscapes. From the majestic Himalayas in the north to the serene backwaters of Kerala in the south, India encompasses a wide range of geographical features, including deserts, plains, mountains, and coastlines, making it a land of incredible natural beauty.\\n\\nIndia is the seventh-largest country by land area and the second-most populous country in the world, with a population exceeding 1.3 billion people. It is a federal parliamentary democratic republic, with a president as the head of state and a prime minister as the head of government. The country follows a multi-tiered administrative structure, with 28 states and 9 union territories, each having its own elected government.\\n\\nIndia has a rich cultural heritage that has evolved over thousands of years. It is home to various religions, including Hinduism, Islam, Christianity, Sikhism, Buddhism, and Jainism, among others. These religions coexist harmoniously, contributing to India's multicultural fabric. Festivals like Diwali, Eid, Christmas, and Holi are celebrated with great enthusiasm and bring people from different communities together.\\n\\nThe history of India is characterized by ancient civilizations, invasions, and the establishment of powerful empires. The Indus Valley Civilization, one of the world's oldest urban civilizations, flourished in the northwestern part of the Indian subcontinent around 2500 BCE. Over the centuries, India witnessed the rise and fall of several dynasties, including the Maurya, Gupta, and Mughal empires. The Mughal period, in particular, left a lasting impact on Indian culture, art, and architecture.\\n\\nIndia's struggle for independence from British colonial rule is a significant chapter in its history. Led by Mahatma Gandhi and other freedom fighters, the non-violent resistance movement gained momentum and eventually led to India's independence on August 15, 1947. This day is celebrated annually as Independence Day.\\n\\nIndia's economy is one of the fastest-growing in the world. It has transitioned from an agrarian economy to a service-oriented and industrialized economy. The country is known for its software and information technology services, pharmaceuticals, textiles, agriculture, and manufacturing sectors. Major cities like Mumbai, Delhi, Bangalore, and Chennai are hubs of business and commerce, attracting investments and fostering innovation.\\n\\nDelhi is the capital of India.\\n\\nHowever, India also faces various socio-economic challenges. Poverty, income inequality, and unemployment are persistent issues that the country strives to address. Efforts are being made to improve education, healthcare, infrastructure, and social welfare programs to uplift marginalized sections of society.\\n\\nEducation plays a vital role in India, with a strong emphasis on academic excellence. The country has a vast network of schools, colleges, and universities, producing a large number of graduates every year. Indian professionals have made significant contributions in various fields globally, particularly in science, technology, engineering, and mathematics (STEM).\\n\\nThe Indian film industry, popularly known as Bollywood, is a global phenomenon, producing the largest number of films annually. Indian cinema reflects the diversity and cultural richness of the country and has a massive following both within India and among the Indian diaspora worldwide.\\n\\nIndian cuisine is renowned for its flavors, spices, and regional specialties. Each state has its own culinary traditions, offering a wide range of vegetarian and non-vegetarian dishes. Indian food has gained international popularity, with dishes like curry, biryani, dosa, and tandoori being enjoyed by people worldwide.\"),\n",
       " Document(page_content=\"The Indian rupee is the official currency in the Republic of India. The rupee is subdivided into 100 paise. The issuance of the currency is controlled by the Reserve Bank of India.\\n\\nThe Indian rupee sign (₹) is the currency symbol for the Indian rupee the official currency of India\\n\\nTourism is a significant contributor to India's economy. The country attracts millions of visitors each year who come to explore its historical sites, architectural wonders, wildlife sanctuaries, and scenic landscapes. Iconic landmarks such as the Taj Mahal, Jaipur's palaces, Kerala's backwaters, and the beaches of Goa are popular tourist destinations.\\n\\nIndia's cultural heritage is preserved in its ancient monuments and UNESCO World Heritage Sites. From the intricate carvings of Khajuraho temples to the majestic forts of Rajasthan, these architectural marvels reflect India's rich history and artistic traditions.\\n\\nIndia's diversity extends to its languages as well. While Hindi and English are the official languages at the national level, there are 22 officially recognized regional languages, including Bengali, Tamil, Telugu, Marathi, Urdu, Punjabi, and Gujarati, among others. This linguistic diversity is a testament to India's multicultural ethos.\\n\\nIn recent years, India has made significant strides in space exploration. The Indian Space Research Organization (ISRO) has successfully launched satellites and missions, including the Mars Orbiter Mission (MOM), also known as Mangalyaan. These achievements have placed India among the elite group of nations with advanced space programs.\\n\\nIndia's diplomatic influence is also growing on the global stage. The country actively participates in international forums and has strong bilateral relations with nations around the world. India is a founding member of the Non-Aligned Movement and plays an active role in various international organizations, such as the United Nations and World Trade Organization.\\n\\nIn conclusion, India is a vast and diverse country with a rich cultural heritage, stunning landscapes, and a rapidly growing economy. It is a nation where ancient traditions coexist with modern aspirations. Despite its challenges, India continues to evolve and leave an indelible mark on the world, making it a fascinating and dynamic country to explore.\")]"
      ]
     },
     "execution_count": 6,
     "metadata": {},
     "output_type": "execute_result"
    }
   ],
   "source": [
    "docs = [Document(page_content=t) for t in texts]\n",
    "docs"
   ]
  },
  {
   "cell_type": "code",
   "execution_count": 8,
   "id": "f90eb446",
   "metadata": {},
   "outputs": [],
   "source": [
    "chain = load_summarize_chain(llm, chain_type = \"map_reduce\", verbose = True)"
   ]
  },
  {
   "cell_type": "code",
   "execution_count": 9,
   "id": "d0c39050",
   "metadata": {},
   "outputs": [
    {
     "name": "stderr",
     "output_type": "stream",
     "text": [
      "/Users/venkatasamyuktamalapaka/anaconda3/lib/python3.11/site-packages/langchain_core/_api/deprecation.py:117: LangChainDeprecationWarning: The function `run` was deprecated in LangChain 0.1.0 and will be removed in 0.2.0. Use invoke instead.\n",
      "  warn_deprecated(\n"
     ]
    },
    {
     "name": "stdout",
     "output_type": "stream",
     "text": [
      "\n",
      "\n",
      "\u001b[1m> Entering new MapReduceDocumentsChain chain...\u001b[0m\n",
      "\n",
      "\n",
      "\u001b[1m> Entering new LLMChain chain...\u001b[0m\n",
      "Prompt after formatting:\n",
      "\u001b[32;1m\u001b[1;3mWrite a concise summary of the following:\n",
      "\n",
      "\n",
      "\"India, officially known as the Republic of India, is a diverse and vibrant country located in South Asia. With a rich history spanning thousands of years, India is known for its cultural heritage, religious diversity, and vast landscapes. From the majestic Himalayas in the north to the serene backwaters of Kerala in the south, India encompasses a wide range of geographical features, including deserts, plains, mountains, and coastlines, making it a land of incredible natural beauty.\n",
      "\n",
      "India is the seventh-largest country by land area and the second-most populous country in the world, with a population exceeding 1.3 billion people. It is a federal parliamentary democratic republic, with a president as the head of state and a prime minister as the head of government. The country follows a multi-tiered administrative structure, with 28 states and 9 union territories, each having its own elected government.\n",
      "\n",
      "India has a rich cultural heritage that has evolved over thousands of years. It is home to various religions, including Hinduism, Islam, Christianity, Sikhism, Buddhism, and Jainism, among others. These religions coexist harmoniously, contributing to India's multicultural fabric. Festivals like Diwali, Eid, Christmas, and Holi are celebrated with great enthusiasm and bring people from different communities together.\n",
      "\n",
      "The history of India is characterized by ancient civilizations, invasions, and the establishment of powerful empires. The Indus Valley Civilization, one of the world's oldest urban civilizations, flourished in the northwestern part of the Indian subcontinent around 2500 BCE. Over the centuries, India witnessed the rise and fall of several dynasties, including the Maurya, Gupta, and Mughal empires. The Mughal period, in particular, left a lasting impact on Indian culture, art, and architecture.\n",
      "\n",
      "India's struggle for independence from British colonial rule is a significant chapter in its history. Led by Mahatma Gandhi and other freedom fighters, the non-violent resistance movement gained momentum and eventually led to India's independence on August 15, 1947. This day is celebrated annually as Independence Day.\n",
      "\n",
      "India's economy is one of the fastest-growing in the world. It has transitioned from an agrarian economy to a service-oriented and industrialized economy. The country is known for its software and information technology services, pharmaceuticals, textiles, agriculture, and manufacturing sectors. Major cities like Mumbai, Delhi, Bangalore, and Chennai are hubs of business and commerce, attracting investments and fostering innovation.\n",
      "\n",
      "Delhi is the capital of India.\n",
      "\n",
      "However, India also faces various socio-economic challenges. Poverty, income inequality, and unemployment are persistent issues that the country strives to address. Efforts are being made to improve education, healthcare, infrastructure, and social welfare programs to uplift marginalized sections of society.\n",
      "\n",
      "Education plays a vital role in India, with a strong emphasis on academic excellence. The country has a vast network of schools, colleges, and universities, producing a large number of graduates every year. Indian professionals have made significant contributions in various fields globally, particularly in science, technology, engineering, and mathematics (STEM).\n",
      "\n",
      "The Indian film industry, popularly known as Bollywood, is a global phenomenon, producing the largest number of films annually. Indian cinema reflects the diversity and cultural richness of the country and has a massive following both within India and among the Indian diaspora worldwide.\n",
      "\n",
      "Indian cuisine is renowned for its flavors, spices, and regional specialties. Each state has its own culinary traditions, offering a wide range of vegetarian and non-vegetarian dishes. Indian food has gained international popularity, with dishes like curry, biryani, dosa, and tandoori being enjoyed by people worldwide.\"\n",
      "\n",
      "\n",
      "CONCISE SUMMARY:\u001b[0m\n",
      "Prompt after formatting:\n",
      "\u001b[32;1m\u001b[1;3mWrite a concise summary of the following:\n",
      "\n",
      "\n",
      "\"The Indian rupee is the official currency in the Republic of India. The rupee is subdivided into 100 paise. The issuance of the currency is controlled by the Reserve Bank of India.\n",
      "\n",
      "The Indian rupee sign (₹) is the currency symbol for the Indian rupee the official currency of India\n",
      "\n",
      "Tourism is a significant contributor to India's economy. The country attracts millions of visitors each year who come to explore its historical sites, architectural wonders, wildlife sanctuaries, and scenic landscapes. Iconic landmarks such as the Taj Mahal, Jaipur's palaces, Kerala's backwaters, and the beaches of Goa are popular tourist destinations.\n",
      "\n",
      "India's cultural heritage is preserved in its ancient monuments and UNESCO World Heritage Sites. From the intricate carvings of Khajuraho temples to the majestic forts of Rajasthan, these architectural marvels reflect India's rich history and artistic traditions.\n",
      "\n",
      "India's diversity extends to its languages as well. While Hindi and English are the official languages at the national level, there are 22 officially recognized regional languages, including Bengali, Tamil, Telugu, Marathi, Urdu, Punjabi, and Gujarati, among others. This linguistic diversity is a testament to India's multicultural ethos.\n",
      "\n",
      "In recent years, India has made significant strides in space exploration. The Indian Space Research Organization (ISRO) has successfully launched satellites and missions, including the Mars Orbiter Mission (MOM), also known as Mangalyaan. These achievements have placed India among the elite group of nations with advanced space programs.\n",
      "\n",
      "India's diplomatic influence is also growing on the global stage. The country actively participates in international forums and has strong bilateral relations with nations around the world. India is a founding member of the Non-Aligned Movement and plays an active role in various international organizations, such as the United Nations and World Trade Organization.\n",
      "\n",
      "In conclusion, India is a vast and diverse country with a rich cultural heritage, stunning landscapes, and a rapidly growing economy. It is a nation where ancient traditions coexist with modern aspirations. Despite its challenges, India continues to evolve and leave an indelible mark on the world, making it a fascinating and dynamic country to explore.\"\n",
      "\n",
      "\n",
      "CONCISE SUMMARY:\u001b[0m\n",
      "\n",
      "\u001b[1m> Finished chain.\u001b[0m\n",
      "\n",
      "\n",
      "\u001b[1m> Entering new LLMChain chain...\u001b[0m\n",
      "Prompt after formatting:\n",
      "\u001b[32;1m\u001b[1;3mWrite a concise summary of the following:\n",
      "\n",
      "\n",
      "\" India is a diverse and vibrant country in South Asia, known for its cultural heritage, religious diversity, and vast landscapes. With a rich history spanning thousands of years, it has a federal parliamentary democratic republic government and is home to various religions that coexist harmoniously. India's economy is one of the fastest-growing in the world, but it also faces socio-economic challenges such as poverty and unemployment. Education is highly valued in India, and the country has a significant influence globally in fields such as STEM, film, and cuisine.\n",
      "\n",
      "\n",
      "The Indian rupee is the official currency of India, controlled by the Reserve Bank of India and divided into 100 paise. Tourism, cultural heritage, linguistic diversity, space exploration, and diplomatic influence are all important aspects of India's economy and global presence. India is a diverse, evolving country with a rich history and modern ambitions that make it an exciting place to visit.\"\n",
      "\n",
      "\n",
      "CONCISE SUMMARY:\u001b[0m\n",
      "\n",
      "\u001b[1m> Finished chain.\u001b[0m\n",
      "\n",
      "\u001b[1m> Finished chain.\u001b[0m\n"
     ]
    },
    {
     "data": {
      "text/plain": [
       "' India is a diverse and vibrant country in South Asia, known for its cultural heritage, religious diversity, and fast-growing economy. It has a federal parliamentary democratic republic government and a significant influence globally in fields such as STEM, film, and cuisine. The Indian rupee is its official currency, controlled by the Reserve Bank of India. The country also values education and has a strong presence in tourism, cultural heritage, space exploration, and diplomacy. '"
      ]
     },
     "execution_count": 9,
     "metadata": {},
     "output_type": "execute_result"
    }
   ],
   "source": [
    "chain.run(docs)"
   ]
  },
  {
   "cell_type": "markdown",
   "id": "44fec9b9",
   "metadata": {},
   "source": [
    "# HTTP Requests"
   ]
  },
  {
   "cell_type": "markdown",
   "id": "35fd6322",
   "metadata": {},
   "source": [
    "# LLMRequests Chain"
   ]
  },
  {
   "cell_type": "code",
   "execution_count": 11,
   "id": "3bccd396",
   "metadata": {},
   "outputs": [],
   "source": [
    "from langchain.chains import LLMRequestsChain, LLMChain"
   ]
  },
  {
   "cell_type": "code",
   "execution_count": 15,
   "id": "f21a5f1b",
   "metadata": {},
   "outputs": [],
   "source": [
    "template = \"\"\"\n",
    "Extract answers to the question '{query}' or say \"not found\" if the information is not available\n",
    "{requests_result}\n",
    "\"\"\"\n",
    "\n",
    "PROMPT = PromptTemplate(\n",
    "    input_variables=[\"query\",\"requests_result\"],\n",
    "    template = template\n",
    ")"
   ]
  },
  {
   "cell_type": "code",
   "execution_count": 16,
   "id": "98497f4c",
   "metadata": {},
   "outputs": [],
   "source": [
    "llm = OpenAI()"
   ]
  },
  {
   "cell_type": "code",
   "execution_count": 17,
   "id": "2a62c698",
   "metadata": {},
   "outputs": [],
   "source": [
    "chain = LLMRequestsChain(llm_chain = LLMChain(llm=llm,prompt=PROMPT))"
   ]
  },
  {
   "cell_type": "code",
   "execution_count": 18,
   "id": "98ab638c",
   "metadata": {},
   "outputs": [],
   "source": [
    "question = \"What is the capital of India?\"\n",
    "inputs = {\n",
    "    \"query\":question,\n",
    "    \"url\":\"https://www.google.com/search?q=\" + question.replace(\" \", \"+\"),\n",
    "}"
   ]
  },
  {
   "cell_type": "code",
   "execution_count": 19,
   "id": "c776683e",
   "metadata": {},
   "outputs": [
    {
     "name": "stderr",
     "output_type": "stream",
     "text": [
      "/Users/venkatasamyuktamalapaka/anaconda3/lib/python3.11/site-packages/langchain_core/_api/deprecation.py:117: LangChainDeprecationWarning: The function `__call__` was deprecated in LangChain 0.1.0 and will be removed in 0.2.0. Use invoke instead.\n",
      "  warn_deprecated(\n"
     ]
    },
    {
     "data": {
      "text/plain": [
       "{'query': 'What is the capital of India?',\n",
       " 'url': 'https://www.google.com/search?q=What+is+the+capital+of+India?',\n",
       " 'output': '\\nThe capital of India is New Delhi.'}"
      ]
     },
     "execution_count": 19,
     "metadata": {},
     "output_type": "execute_result"
    }
   ],
   "source": [
    "chain(inputs)"
   ]
  },
  {
   "cell_type": "code",
   "execution_count": 20,
   "id": "92d0ec99",
   "metadata": {},
   "outputs": [
    {
     "name": "stdout",
     "output_type": "stream",
     "text": [
      "    def _call(\n",
      "        self,\n",
      "        inputs: Dict[str, Any],\n",
      "        run_manager: Optional[CallbackManagerForChainRun] = None,\n",
      "    ) -> Dict[str, Any]:\n",
      "        from bs4 import BeautifulSoup\n",
      "\n",
      "        _run_manager = run_manager or CallbackManagerForChainRun.get_noop_manager()\n",
      "        # Other keys are assumed to be needed for LLM prediction\n",
      "        other_keys = {k: v for k, v in inputs.items() if k != self.input_key}\n",
      "        url = inputs[self.input_key]\n",
      "        res = self.requests_wrapper.get(url)\n",
      "        # extract the text from the html\n",
      "        soup = BeautifulSoup(res, \"html.parser\")\n",
      "        other_keys[self.requests_key] = soup.get_text()[: self.text_length]\n",
      "        result = self.llm_chain.predict(\n",
      "            callbacks=_run_manager.get_child(), **other_keys\n",
      "        )\n",
      "        return {self.output_key: result}\n",
      "\n"
     ]
    }
   ],
   "source": [
    "import inspect\n",
    "print(inspect.getsource(chain._call))"
   ]
  },
  {
   "cell_type": "code",
   "execution_count": null,
   "id": "653b82f9",
   "metadata": {},
   "outputs": [],
   "source": []
  }
 ],
 "metadata": {
  "kernelspec": {
   "display_name": "Python 3 (ipykernel)",
   "language": "python",
   "name": "python3"
  },
  "language_info": {
   "codemirror_mode": {
    "name": "ipython",
    "version": 3
   },
   "file_extension": ".py",
   "mimetype": "text/x-python",
   "name": "python",
   "nbconvert_exporter": "python",
   "pygments_lexer": "ipython3",
   "version": "3.11.5"
  }
 },
 "nbformat": 4,
 "nbformat_minor": 5
}
