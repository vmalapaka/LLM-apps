{
 "cells": [
  {
   "cell_type": "code",
   "execution_count": 7,
   "id": "4cd138f4",
   "metadata": {},
   "outputs": [],
   "source": [
    "import os\n",
    "os.environ[\"OPENAI_API_KEY\"] = \"\"\n",
    "os.environ[\"HUGGINGFACEHUB_API_TOKEN\"] = \"\""
   ]
  },
  {
   "cell_type": "code",
   "execution_count": 8,
   "id": "ee162008",
   "metadata": {},
   "outputs": [],
   "source": [
    "from langchain.llms import OpenAI\n",
    "from langchain.prompts import PromptTemplate\n",
    "from langchain.chains import LLMChain"
   ]
  },
  {
   "cell_type": "code",
   "execution_count": 9,
   "id": "8afcc1fc",
   "metadata": {},
   "outputs": [],
   "source": [
    "llm=OpenAI()"
   ]
  },
  {
   "cell_type": "code",
   "execution_count": 12,
   "id": "0f2001ef",
   "metadata": {},
   "outputs": [],
   "source": [
    "prompt = PromptTemplate(\n",
    "            input_variables = [\"place\"],\n",
    "            template = \"Best places to visit in {place}?\")"
   ]
  },
  {
   "cell_type": "code",
   "execution_count": 13,
   "id": "bdc60202",
   "metadata": {},
   "outputs": [
    {
     "name": "stderr",
     "output_type": "stream",
     "text": [
      "/Users/venkatasamyuktamalapaka/anaconda3/lib/python3.11/site-packages/langchain_core/_api/deprecation.py:117: LangChainDeprecationWarning: The function `run` was deprecated in LangChain 0.1.0 and will be removed in 0.2.0. Use invoke instead.\n",
      "  warn_deprecated(\n"
     ]
    },
    {
     "name": "stdout",
     "output_type": "stream",
     "text": [
      "\n",
      "\n",
      "1. Taj Mahal, Agra\n",
      "2. Golden Temple, Amritsar\n",
      "3. Jaipur, Rajasthan\n",
      "4. Goa\n",
      "5. Varanasi, Uttar Pradesh\n",
      "6. Kerala backwaters\n",
      "7. Ladakh, Jammu and Kashmir\n",
      "8. Hampi, Karnataka\n",
      "9. Ranthambore National Park, Rajasthan\n",
      "10. Jaisalmer, Rajasthan\n",
      "11. Darjeeling, West Bengal\n",
      "12. Munnar, Kerala\n",
      "13. Rishikesh, Uttarakhand\n",
      "14. Andaman and Nicobar Islands\n",
      "15. Khajuraho, Madhya Pradesh\n",
      "16. Pondicherry\n",
      "17. Jodhpur, Rajasthan\n",
      "18. Shimla, Himachal Pradesh\n",
      "19. Ooty, Tamil Nadu\n",
      "20. Leh, Ladakh.\n"
     ]
    }
   ],
   "source": [
    "chain = LLMChain(llm = llm, prompt = prompt)\n",
    "print(chain.run(\"India\"))"
   ]
  },
  {
   "cell_type": "markdown",
   "id": "47b1080a",
   "metadata": {},
   "source": [
    "# Simple Sequential Chains"
   ]
  },
  {
   "cell_type": "code",
   "execution_count": 14,
   "id": "46a125f7",
   "metadata": {},
   "outputs": [],
   "source": [
    "from langchain.chains import SimpleSequentialChain"
   ]
  },
  {
   "cell_type": "code",
   "execution_count": 15,
   "id": "938753c0",
   "metadata": {},
   "outputs": [],
   "source": [
    "from langchain.llms import HuggingFaceEndpoint"
   ]
  },
  {
   "cell_type": "code",
   "execution_count": 16,
   "id": "4ade604f",
   "metadata": {},
   "outputs": [],
   "source": [
    "template = \"\"\"You have to suggest 5 best dishes to eat in {place}?\n",
    "\n",
    "YOUR RESPONSE:\n",
    "\"\"\"\n",
    "prompt_template = PromptTemplate(\n",
    "    input_variables=[\"place\"], \n",
    "    template=template)"
   ]
  },
  {
   "cell_type": "code",
   "execution_count": 32,
   "id": "22d6447e",
   "metadata": {},
   "outputs": [],
   "source": [
    "llm = OpenAI()"
   ]
  },
  {
   "cell_type": "code",
   "execution_count": 33,
   "id": "b5f7dc75",
   "metadata": {},
   "outputs": [],
   "source": [
    "place_chain = LLMChain(llm=llm, prompt=prompt_template)"
   ]
  },
  {
   "cell_type": "code",
   "execution_count": 34,
   "id": "f227ab97",
   "metadata": {},
   "outputs": [],
   "source": [
    "template = \"\"\"Given a list a places, please estimate the expenses to visit all of them in local currency and also the days needed\n",
    "{expenses}\n",
    "\n",
    "YOUR RESPONSE:\n",
    "\"\"\"\n",
    "prompt_template = PromptTemplate(\n",
    "    input_variables=[\"expenses\"],\n",
    "    template=template)"
   ]
  },
  {
   "cell_type": "code",
   "execution_count": 35,
   "id": "167c5838",
   "metadata": {},
   "outputs": [],
   "source": [
    "llm = OpenAI()"
   ]
  },
  {
   "cell_type": "code",
   "execution_count": 36,
   "id": "a349a860",
   "metadata": {},
   "outputs": [],
   "source": [
    "expenses_chain = LLMChain(llm=llm, prompt=prompt_template)"
   ]
  },
  {
   "cell_type": "code",
   "execution_count": 37,
   "id": "c4fe22c9",
   "metadata": {},
   "outputs": [],
   "source": [
    "final_chain = SimpleSequentialChain(chains=[place_chain, expenses_chain], verbose=True)"
   ]
  },
  {
   "cell_type": "code",
   "execution_count": 38,
   "id": "57dcf31a",
   "metadata": {},
   "outputs": [
    {
     "name": "stdout",
     "output_type": "stream",
     "text": [
      "\n",
      "\n",
      "\u001b[1m> Entering new SimpleSequentialChain chain...\u001b[0m\n",
      "\u001b[36;1m\u001b[1;3m\n",
      "1. New Delhi: \n",
      "Expenses - Approximately 70,000 Indian Rupees (INR)\n",
      "Days needed - 3 days\n",
      "\n",
      "2. Agra: \n",
      "Expenses - Approximately 20,000 INR\n",
      "Days needed - 2 days\n",
      "\n",
      "3. Jaipur: \n",
      "Expenses - Approximately 30,000 INR\n",
      "Days needed - 2 days\n",
      "\n",
      "4. Varanasi: \n",
      "Expenses - Approximately 15,000 INR\n",
      "Days needed - 2 days\n",
      "\n",
      "5. Mumbai: \n",
      "Expenses - Approximately 40,000 INR\n",
      "Days needed - 3 days\n",
      "\n",
      "6. Goa: \n",
      "Expenses - Approximately 25,000 INR\n",
      "Days needed - 2 days\n",
      "\n",
      "7. Kerala: \n",
      "Expenses - Approximately 35,000 INR\n",
      "Days needed - 3 days\n",
      "\n",
      "8. Kolkata: \n",
      "Expenses - Approximately 20,000 INR\n",
      "Days needed - 2 days\n",
      "\n",
      "9. Udaipur: \n",
      "Expenses - Approximately 25,000 INR\n",
      "Days needed - 2 days\n",
      "\n",
      "10. Amritsar: \n",
      "Expenses - Approximately 15,000 INR\n",
      "Days needed - 2 days\n",
      "\n",
      "Total Expenses: Approximately 275,000 Indian Rupees (\u001b[0m\n",
      "\u001b[33;1m\u001b[1;3m\n",
      "Expenses: Approximately 275,000 INR\n",
      "Days needed: 21 days\u001b[0m\n",
      "\n",
      "\u001b[1m> Finished chain.\u001b[0m\n"
     ]
    }
   ],
   "source": [
    "review = final_chain.invoke(\"India\")"
   ]
  },
  {
   "cell_type": "code",
   "execution_count": null,
   "id": "8b454185",
   "metadata": {},
   "outputs": [],
   "source": []
  }
 ],
 "metadata": {
  "kernelspec": {
   "display_name": "Python 3 (ipykernel)",
   "language": "python",
   "name": "python3"
  },
  "language_info": {
   "codemirror_mode": {
    "name": "ipython",
    "version": 3
   },
   "file_extension": ".py",
   "mimetype": "text/x-python",
   "name": "python",
   "nbconvert_exporter": "python",
   "pygments_lexer": "ipython3",
   "version": "3.11.5"
  }
 },
 "nbformat": 4,
 "nbformat_minor": 5
}
