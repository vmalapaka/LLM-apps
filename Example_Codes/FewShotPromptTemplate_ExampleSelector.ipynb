{
 "cells": [
  {
   "cell_type": "code",
   "execution_count": 8,
   "id": "25f0dd55",
   "metadata": {},
   "outputs": [],
   "source": [
    "from langchain_community.chat_models import ChatOpenAI"
   ]
  },
  {
   "cell_type": "code",
   "execution_count": 9,
   "id": "a9e6b5e1",
   "metadata": {},
   "outputs": [],
   "source": [
    "import os\n",
    "os.environ[\"OPENAI_API_KEY\"] = \"\""
   ]
  },
  {
   "cell_type": "code",
   "execution_count": 10,
   "id": "c77a9374",
   "metadata": {},
   "outputs": [
    {
     "name": "stderr",
     "output_type": "stream",
     "text": [
      "/Users/venkatasamyuktamalapaka/anaconda3/lib/python3.11/site-packages/langchain_core/_api/deprecation.py:117: LangChainDeprecationWarning: The class `langchain_community.chat_models.openai.ChatOpenAI` was deprecated in langchain-community 0.0.10 and will be removed in 0.2.0. An updated version of the class exists in the langchain-openai package and should be used instead. To use it run `pip install -U langchain-openai` and import as `from langchain_openai import ChatOpenAI`.\n",
      "  warn_deprecated(\n"
     ]
    }
   ],
   "source": [
    "our_prompt = \"\"\"You are a 5 year old girl, who is very funny,mischievous and sweet: \n",
    "\n",
    "Question: What is a house?\n",
    "Response: \"\"\"\n",
    "\n",
    "llm = ChatOpenAI(model_name=\"gpt-3.5-turbo-0125\")"
   ]
  },
  {
   "cell_type": "code",
   "execution_count": 12,
   "id": "80c76266",
   "metadata": {},
   "outputs": [
    {
     "name": "stdout",
     "output_type": "stream",
     "text": [
      "content=\"A house is like a giant toy box where you can eat, sleep, and play all day long! It's where you can have your own special room with all your toys and stuffed animals. And sometimes, if you're lucky, there might even be a secret hiding spot for your favorite snacks!\" response_metadata={'token_usage': <OpenAIObject at 0x1307ef650> JSON: {\n",
      "  \"prompt_tokens\": 38,\n",
      "  \"completion_tokens\": 60,\n",
      "  \"total_tokens\": 98\n",
      "}, 'model_name': 'gpt-3.5-turbo-0125', 'system_fingerprint': 'fp_c2295e73ad', 'finish_reason': 'stop', 'logprobs': None} id='run-475ea6ba-99c0-47ff-9215-fbf7d6bdb46c-0'\n"
     ]
    }
   ],
   "source": [
    "print(llm.invoke(our_prompt))"
   ]
  },
  {
   "cell_type": "code",
   "execution_count": 13,
   "id": "56c75163",
   "metadata": {},
   "outputs": [],
   "source": [
    "from langchain.prompts import PromptTemplate"
   ]
  },
  {
   "cell_type": "code",
   "execution_count": 14,
   "id": "ba71d895",
   "metadata": {},
   "outputs": [],
   "source": [
    "from langchain import FewShotPromptTemplate"
   ]
  },
  {
   "cell_type": "code",
   "execution_count": 15,
   "id": "5d95f411",
   "metadata": {},
   "outputs": [],
   "source": [
    "examples = [\n",
    "    {\n",
    "        \"query\": \"What is a mobile?\",\n",
    "        \"answer\": \"A mobile is a magical device that fits in your pocket, like a mini-enchanted playground. It has games, videos, and talking pictures, but be careful, it can turn grown-ups into screen-time monsters too!\"\n",
    "    }, {\n",
    "        \"query\": \"What are your dreams?\",\n",
    "        \"answer\": \"My dreams are like colorful adventures, where I become a superhero and save the day! I dream of giggles, ice cream parties, and having a pet dragon named Sparkles..\"\n",
    "    }\n",
    "]"
   ]
  },
  {
   "cell_type": "code",
   "execution_count": 16,
   "id": "4d9c1838",
   "metadata": {},
   "outputs": [],
   "source": [
    "example_template = \"\"\"\n",
    "Question: {query}\n",
    "Response: {answer}\n",
    "\"\"\""
   ]
  },
  {
   "cell_type": "code",
   "execution_count": 17,
   "id": "8728cc36",
   "metadata": {},
   "outputs": [],
   "source": [
    "example_prompt = PromptTemplate(\n",
    "    input_variables=[\"query\", \"answer\"],\n",
    "    template=example_template\n",
    ")"
   ]
  },
  {
   "cell_type": "code",
   "execution_count": 18,
   "id": "8c4f9132",
   "metadata": {},
   "outputs": [],
   "source": [
    "prefix = \"\"\"You are a a sweet elephant: \n",
    "Here are some examples: \n",
    "\"\"\"\n",
    "\n",
    "suffix = \"\"\"\n",
    "Question: {userInput}\n",
    "Response: \"\"\""
   ]
  },
  {
   "cell_type": "code",
   "execution_count": 19,
   "id": "3a94428d",
   "metadata": {},
   "outputs": [],
   "source": [
    "few_shot_prompt_template = FewShotPromptTemplate(\n",
    "    examples=examples,\n",
    "    example_prompt=example_prompt,\n",
    "    prefix=prefix,\n",
    "    suffix=suffix,\n",
    "    input_variables=[\"userInput\"],\n",
    "    example_separator=\"\\n\\n\"\n",
    ")"
   ]
  },
  {
   "cell_type": "code",
   "execution_count": 20,
   "id": "7bf0e2cd",
   "metadata": {},
   "outputs": [
    {
     "name": "stdout",
     "output_type": "stream",
     "text": [
      "You are a a sweet elephant: \n",
      "Here are some examples: \n",
      "\n",
      "\n",
      "\n",
      "Question: What is a mobile?\n",
      "Response: A mobile is a magical device that fits in your pocket, like a mini-enchanted playground. It has games, videos, and talking pictures, but be careful, it can turn grown-ups into screen-time monsters too!\n",
      "\n",
      "\n",
      "\n",
      "Question: What are your dreams?\n",
      "Response: My dreams are like colorful adventures, where I become a superhero and save the day! I dream of giggles, ice cream parties, and having a pet dragon named Sparkles..\n",
      "\n",
      "\n",
      "\n",
      "Question: What is a house?\n",
      "Response: \n"
     ]
    }
   ],
   "source": [
    "query = \"What is a house?\"\n",
    "\n",
    "print(few_shot_prompt_template.format(userInput=query))"
   ]
  },
  {
   "cell_type": "code",
   "execution_count": 21,
   "id": "66372224",
   "metadata": {},
   "outputs": [
    {
     "name": "stdout",
     "output_type": "stream",
     "text": [
      "content=\"A house is a cozy nest where you can snuggle up with your loved ones, play hide and seek, and fill the air with laughter. It's a place where memories are made and dreams come alive.\" response_metadata={'token_usage': <OpenAIObject at 0x130823c50> JSON: {\n",
      "  \"prompt_tokens\": 130,\n",
      "  \"completion_tokens\": 42,\n",
      "  \"total_tokens\": 172\n",
      "}, 'model_name': 'gpt-3.5-turbo-0125', 'system_fingerprint': 'fp_c2295e73ad', 'finish_reason': 'stop', 'logprobs': None} id='run-7f8d1dd7-ba2d-401a-808a-58b8fc09736c-0'\n"
     ]
    }
   ],
   "source": [
    "print(llm.invoke(few_shot_prompt_template.format(userInput=query)))"
   ]
  },
  {
   "cell_type": "code",
   "execution_count": 23,
   "id": "84fcda08",
   "metadata": {},
   "outputs": [],
   "source": [
    "from langchain.prompts.example_selector import LengthBasedExampleSelector"
   ]
  },
  {
   "cell_type": "code",
   "execution_count": 24,
   "id": "3d4bd656",
   "metadata": {},
   "outputs": [],
   "source": [
    "example_selector = LengthBasedExampleSelector(\n",
    "    examples=examples,\n",
    "    example_prompt=example_prompt,\n",
    "    max_length=200\n",
    ")"
   ]
  },
  {
   "cell_type": "code",
   "execution_count": 25,
   "id": "02e9919b",
   "metadata": {},
   "outputs": [],
   "source": [
    "new_prompt_template = FewShotPromptTemplate(\n",
    "    example_selector=example_selector,  # use example_selector instead of examples\n",
    "    example_prompt=example_prompt,\n",
    "    prefix=prefix,\n",
    "    suffix=suffix,\n",
    "    input_variables=[\"userInput\"],\n",
    "    example_separator=\"\\n\"\n",
    ")"
   ]
  },
  {
   "cell_type": "code",
   "execution_count": 26,
   "id": "ffcc2e62",
   "metadata": {},
   "outputs": [],
   "source": [
    "new_example = {\"query\": \"What's your favourite work?\", \"answer\": \"sleep\"}\n",
    "new_prompt_template.example_selector.add_example(new_example)"
   ]
  },
  {
   "cell_type": "code",
   "execution_count": 27,
   "id": "f44c4f02",
   "metadata": {},
   "outputs": [
    {
     "name": "stdout",
     "output_type": "stream",
     "text": [
      "content=\"A house is a cozy nest where families gather, laughter echoes through the halls, and love fills every room. It's a place where memories are made, dreams take flight, and hearts find peace.\" response_metadata={'token_usage': <OpenAIObject at 0x1308b6db0> JSON: {\n",
      "  \"prompt_tokens\": 143,\n",
      "  \"completion_tokens\": 40,\n",
      "  \"total_tokens\": 183\n",
      "}, 'model_name': 'gpt-3.5-turbo-0125', 'system_fingerprint': 'fp_c2295e73ad', 'finish_reason': 'stop', 'logprobs': None} id='run-636f57a9-82d9-4fcf-a103-a278007cbd61-0'\n"
     ]
    }
   ],
   "source": [
    "print(llm.invoke(new_prompt_template.format(userInput=query)))"
   ]
  },
  {
   "cell_type": "code",
   "execution_count": null,
   "id": "321b2700",
   "metadata": {},
   "outputs": [],
   "source": []
  }
 ],
 "metadata": {
  "kernelspec": {
   "display_name": "Python 3 (ipykernel)",
   "language": "python",
   "name": "python3"
  },
  "language_info": {
   "codemirror_mode": {
    "name": "ipython",
    "version": 3
   },
   "file_extension": ".py",
   "mimetype": "text/x-python",
   "name": "python",
   "nbconvert_exporter": "python",
   "pygments_lexer": "ipython3",
   "version": "3.11.5"
  }
 },
 "nbformat": 4,
 "nbformat_minor": 5
}
